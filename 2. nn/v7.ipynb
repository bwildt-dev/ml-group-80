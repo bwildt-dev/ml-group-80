{
 "cells": [
  {
   "cell_type": "code",
   "execution_count": 63,
   "id": "81f28f43",
   "metadata": {},
   "outputs": [],
   "source": [
    "import pandas as pd\n",
    "import numpy as np\n",
    "import os\n",
    "import seaborn as sns\n",
    "from scipy import stats\n",
    "import matplotlib.pyplot as plt\n",
    "\n",
    "from sklearn.feature_selection import SelectKBest, chi2\n",
    "from sklearn.model_selection import train_test_split\n",
    "from sklearn.metrics import roc_auc_score, f1_score\n",
    "from sklearn.preprocessing import MinMaxScaler\n",
    "\n",
    "from fastprogress import progress_bar\n",
    "import missingno as msno\n",
    "\n",
    "import torch\n",
    "import torch.nn as nn\n",
    "from torch.optim import AdamW\n",
    "from torch.utils.data import TensorDataset, DataLoader"
   ]
  },
  {
   "cell_type": "markdown",
   "id": "de225311",
   "metadata": {},
   "source": [
    "# Data\n",
    "- Age - 5-years gap\n",
    "- Height (cm)\n",
    "- Weight (kg)\n",
    "- Waist (cm) - Waist circumference length\n",
    "- Eyesight (left)\n",
    "- Eyesight (right)\n",
    "- Hearing (left)\n",
    "- Hearing (right)\n",
    "- Systolic - Blood pressure\n",
    "- Relaxation - Blood pressure\n",
    "- Fasting blood sugar\n",
    "- Cholesterol - Total\n",
    "- Triglyceride\n",
    "- HDL - Cholesterol type\n",
    "- LDL - Cholesterol type\n",
    "- Hemoglobin\n",
    "- Urine protein\n",
    "- Serum creatinine\n",
    "- AST - Glutamic oxaloacetic transaminase type\n",
    "- ALT - Glutamic oxaloacetic transaminase type\n",
    "- GTP - γ-GTP\n",
    "- Dental caries\n",
    "- Smoking"
   ]
  },
  {
   "cell_type": "markdown",
   "id": "37753df6",
   "metadata": {},
   "source": [
    "# 0. Preprocessing"
   ]
  },
  {
   "cell_type": "code",
   "execution_count": 64,
   "id": "92195076",
   "metadata": {},
   "outputs": [],
   "source": [
    "file_path = os.getcwd()\n",
    "train_file = '/train.csv'\n",
    "test_file = '/test.csv'\n",
    "\n",
    "train_file_path = file_path + train_file\n",
    "test_file_path = file_path + test_file"
   ]
  },
  {
   "cell_type": "code",
   "execution_count": 65,
   "id": "575f8b0d",
   "metadata": {},
   "outputs": [],
   "source": [
    "df = pd.read_csv(train_file_path)\n",
    "train = pd.read_csv(train_file_path)\n",
    "test = pd.read_csv(train_file_path)"
   ]
  },
  {
   "cell_type": "markdown",
   "id": "a6bae800",
   "metadata": {},
   "source": [
    "# 1. Data\n",
    "## 1.1 Exploration\n"
   ]
  },
  {
   "cell_type": "code",
   "execution_count": 66,
   "id": "0bd9eae5",
   "metadata": {},
   "outputs": [
    {
     "data": {
      "text/html": [
       "<div>\n",
       "<style scoped>\n",
       "    .dataframe tbody tr th:only-of-type {\n",
       "        vertical-align: middle;\n",
       "    }\n",
       "\n",
       "    .dataframe tbody tr th {\n",
       "        vertical-align: top;\n",
       "    }\n",
       "\n",
       "    .dataframe thead th {\n",
       "        text-align: right;\n",
       "    }\n",
       "</style>\n",
       "<table border=\"1\" class=\"dataframe\">\n",
       "  <thead>\n",
       "    <tr style=\"text-align: right;\">\n",
       "      <th></th>\n",
       "      <th>id</th>\n",
       "      <th>age</th>\n",
       "      <th>height(cm)</th>\n",
       "      <th>weight(kg)</th>\n",
       "      <th>waist(cm)</th>\n",
       "      <th>eyesight(left)</th>\n",
       "      <th>eyesight(right)</th>\n",
       "      <th>hearing(left)</th>\n",
       "      <th>hearing(right)</th>\n",
       "      <th>systolic</th>\n",
       "      <th>...</th>\n",
       "      <th>HDL</th>\n",
       "      <th>LDL</th>\n",
       "      <th>hemoglobin</th>\n",
       "      <th>Urine protein</th>\n",
       "      <th>serum creatinine</th>\n",
       "      <th>AST</th>\n",
       "      <th>ALT</th>\n",
       "      <th>Gtp</th>\n",
       "      <th>dental caries</th>\n",
       "      <th>smoking</th>\n",
       "    </tr>\n",
       "  </thead>\n",
       "  <tbody>\n",
       "    <tr>\n",
       "      <th>0</th>\n",
       "      <td>0</td>\n",
       "      <td>55</td>\n",
       "      <td>165</td>\n",
       "      <td>60</td>\n",
       "      <td>81.0</td>\n",
       "      <td>0.5</td>\n",
       "      <td>0.6</td>\n",
       "      <td>1</td>\n",
       "      <td>1</td>\n",
       "      <td>135</td>\n",
       "      <td>...</td>\n",
       "      <td>40</td>\n",
       "      <td>75</td>\n",
       "      <td>16.5</td>\n",
       "      <td>1</td>\n",
       "      <td>1.0</td>\n",
       "      <td>22</td>\n",
       "      <td>25</td>\n",
       "      <td>27</td>\n",
       "      <td>0</td>\n",
       "      <td>1</td>\n",
       "    </tr>\n",
       "    <tr>\n",
       "      <th>1</th>\n",
       "      <td>1</td>\n",
       "      <td>70</td>\n",
       "      <td>165</td>\n",
       "      <td>65</td>\n",
       "      <td>89.0</td>\n",
       "      <td>0.6</td>\n",
       "      <td>0.7</td>\n",
       "      <td>2</td>\n",
       "      <td>2</td>\n",
       "      <td>146</td>\n",
       "      <td>...</td>\n",
       "      <td>57</td>\n",
       "      <td>126</td>\n",
       "      <td>16.2</td>\n",
       "      <td>1</td>\n",
       "      <td>1.1</td>\n",
       "      <td>27</td>\n",
       "      <td>23</td>\n",
       "      <td>37</td>\n",
       "      <td>1</td>\n",
       "      <td>0</td>\n",
       "    </tr>\n",
       "    <tr>\n",
       "      <th>2</th>\n",
       "      <td>2</td>\n",
       "      <td>20</td>\n",
       "      <td>170</td>\n",
       "      <td>75</td>\n",
       "      <td>81.0</td>\n",
       "      <td>0.4</td>\n",
       "      <td>0.5</td>\n",
       "      <td>1</td>\n",
       "      <td>1</td>\n",
       "      <td>118</td>\n",
       "      <td>...</td>\n",
       "      <td>45</td>\n",
       "      <td>93</td>\n",
       "      <td>17.4</td>\n",
       "      <td>1</td>\n",
       "      <td>0.8</td>\n",
       "      <td>27</td>\n",
       "      <td>31</td>\n",
       "      <td>53</td>\n",
       "      <td>0</td>\n",
       "      <td>1</td>\n",
       "    </tr>\n",
       "    <tr>\n",
       "      <th>3</th>\n",
       "      <td>3</td>\n",
       "      <td>35</td>\n",
       "      <td>180</td>\n",
       "      <td>95</td>\n",
       "      <td>105.0</td>\n",
       "      <td>1.5</td>\n",
       "      <td>1.2</td>\n",
       "      <td>1</td>\n",
       "      <td>1</td>\n",
       "      <td>131</td>\n",
       "      <td>...</td>\n",
       "      <td>38</td>\n",
       "      <td>102</td>\n",
       "      <td>15.9</td>\n",
       "      <td>1</td>\n",
       "      <td>1.0</td>\n",
       "      <td>20</td>\n",
       "      <td>27</td>\n",
       "      <td>30</td>\n",
       "      <td>1</td>\n",
       "      <td>0</td>\n",
       "    </tr>\n",
       "    <tr>\n",
       "      <th>4</th>\n",
       "      <td>4</td>\n",
       "      <td>30</td>\n",
       "      <td>165</td>\n",
       "      <td>60</td>\n",
       "      <td>80.5</td>\n",
       "      <td>1.5</td>\n",
       "      <td>1.0</td>\n",
       "      <td>1</td>\n",
       "      <td>1</td>\n",
       "      <td>121</td>\n",
       "      <td>...</td>\n",
       "      <td>44</td>\n",
       "      <td>93</td>\n",
       "      <td>15.4</td>\n",
       "      <td>1</td>\n",
       "      <td>0.8</td>\n",
       "      <td>19</td>\n",
       "      <td>13</td>\n",
       "      <td>17</td>\n",
       "      <td>0</td>\n",
       "      <td>1</td>\n",
       "    </tr>\n",
       "  </tbody>\n",
       "</table>\n",
       "<p>5 rows × 24 columns</p>\n",
       "</div>"
      ],
      "text/plain": [
       "   id  age  height(cm)  weight(kg)  waist(cm)  eyesight(left)  \\\n",
       "0   0   55         165          60       81.0             0.5   \n",
       "1   1   70         165          65       89.0             0.6   \n",
       "2   2   20         170          75       81.0             0.4   \n",
       "3   3   35         180          95      105.0             1.5   \n",
       "4   4   30         165          60       80.5             1.5   \n",
       "\n",
       "   eyesight(right)  hearing(left)  hearing(right)  systolic  ...  HDL  LDL  \\\n",
       "0              0.6              1               1       135  ...   40   75   \n",
       "1              0.7              2               2       146  ...   57  126   \n",
       "2              0.5              1               1       118  ...   45   93   \n",
       "3              1.2              1               1       131  ...   38  102   \n",
       "4              1.0              1               1       121  ...   44   93   \n",
       "\n",
       "   hemoglobin  Urine protein  serum creatinine  AST  ALT  Gtp  dental caries  \\\n",
       "0        16.5              1               1.0   22   25   27              0   \n",
       "1        16.2              1               1.1   27   23   37              1   \n",
       "2        17.4              1               0.8   27   31   53              0   \n",
       "3        15.9              1               1.0   20   27   30              1   \n",
       "4        15.4              1               0.8   19   13   17              0   \n",
       "\n",
       "   smoking  \n",
       "0        1  \n",
       "1        0  \n",
       "2        1  \n",
       "3        0  \n",
       "4        1  \n",
       "\n",
       "[5 rows x 24 columns]"
      ]
     },
     "execution_count": 66,
     "metadata": {},
     "output_type": "execute_result"
    }
   ],
   "source": [
    "df.head()"
   ]
  },
  {
   "cell_type": "code",
   "execution_count": 67,
   "id": "e5c3119a",
   "metadata": {},
   "outputs": [
    {
     "name": "stdout",
     "output_type": "stream",
     "text": [
      "<class 'pandas.core.frame.DataFrame'>\n",
      "RangeIndex: 159256 entries, 0 to 159255\n",
      "Data columns (total 24 columns):\n",
      " #   Column               Non-Null Count   Dtype  \n",
      "---  ------               --------------   -----  \n",
      " 0   id                   159256 non-null  int64  \n",
      " 1   age                  159256 non-null  int64  \n",
      " 2   height(cm)           159256 non-null  int64  \n",
      " 3   weight(kg)           159256 non-null  int64  \n",
      " 4   waist(cm)            159256 non-null  float64\n",
      " 5   eyesight(left)       159256 non-null  float64\n",
      " 6   eyesight(right)      159256 non-null  float64\n",
      " 7   hearing(left)        159256 non-null  int64  \n",
      " 8   hearing(right)       159256 non-null  int64  \n",
      " 9   systolic             159256 non-null  int64  \n",
      " 10  relaxation           159256 non-null  int64  \n",
      " 11  fasting blood sugar  159256 non-null  int64  \n",
      " 12  Cholesterol          159256 non-null  int64  \n",
      " 13  triglyceride         159256 non-null  int64  \n",
      " 14  HDL                  159256 non-null  int64  \n",
      " 15  LDL                  159256 non-null  int64  \n",
      " 16  hemoglobin           159256 non-null  float64\n",
      " 17  Urine protein        159256 non-null  int64  \n",
      " 18  serum creatinine     159256 non-null  float64\n",
      " 19  AST                  159256 non-null  int64  \n",
      " 20  ALT                  159256 non-null  int64  \n",
      " 21  Gtp                  159256 non-null  int64  \n",
      " 22  dental caries        159256 non-null  int64  \n",
      " 23  smoking              159256 non-null  int64  \n",
      "dtypes: float64(5), int64(19)\n",
      "memory usage: 29.2 MB\n"
     ]
    }
   ],
   "source": [
    "df.info()"
   ]
  },
  {
   "cell_type": "code",
   "execution_count": 68,
   "id": "791ad8d5",
   "metadata": {},
   "outputs": [
    {
     "data": {
      "text/html": [
       "<div>\n",
       "<style scoped>\n",
       "    .dataframe tbody tr th:only-of-type {\n",
       "        vertical-align: middle;\n",
       "    }\n",
       "\n",
       "    .dataframe tbody tr th {\n",
       "        vertical-align: top;\n",
       "    }\n",
       "\n",
       "    .dataframe thead th {\n",
       "        text-align: right;\n",
       "    }\n",
       "</style>\n",
       "<table border=\"1\" class=\"dataframe\">\n",
       "  <thead>\n",
       "    <tr style=\"text-align: right;\">\n",
       "      <th></th>\n",
       "      <th>id</th>\n",
       "      <th>age</th>\n",
       "      <th>height(cm)</th>\n",
       "      <th>weight(kg)</th>\n",
       "      <th>waist(cm)</th>\n",
       "      <th>eyesight(left)</th>\n",
       "      <th>eyesight(right)</th>\n",
       "      <th>hearing(left)</th>\n",
       "      <th>hearing(right)</th>\n",
       "      <th>systolic</th>\n",
       "      <th>...</th>\n",
       "      <th>HDL</th>\n",
       "      <th>LDL</th>\n",
       "      <th>hemoglobin</th>\n",
       "      <th>Urine protein</th>\n",
       "      <th>serum creatinine</th>\n",
       "      <th>AST</th>\n",
       "      <th>ALT</th>\n",
       "      <th>Gtp</th>\n",
       "      <th>dental caries</th>\n",
       "      <th>smoking</th>\n",
       "    </tr>\n",
       "  </thead>\n",
       "  <tbody>\n",
       "    <tr>\n",
       "      <th>159251</th>\n",
       "      <td>159251</td>\n",
       "      <td>40</td>\n",
       "      <td>155</td>\n",
       "      <td>45</td>\n",
       "      <td>69.0</td>\n",
       "      <td>1.5</td>\n",
       "      <td>2.0</td>\n",
       "      <td>1</td>\n",
       "      <td>1</td>\n",
       "      <td>127</td>\n",
       "      <td>...</td>\n",
       "      <td>72</td>\n",
       "      <td>159</td>\n",
       "      <td>14.5</td>\n",
       "      <td>1</td>\n",
       "      <td>0.8</td>\n",
       "      <td>25</td>\n",
       "      <td>26</td>\n",
       "      <td>13</td>\n",
       "      <td>0</td>\n",
       "      <td>0</td>\n",
       "    </tr>\n",
       "    <tr>\n",
       "      <th>159252</th>\n",
       "      <td>159252</td>\n",
       "      <td>50</td>\n",
       "      <td>155</td>\n",
       "      <td>75</td>\n",
       "      <td>82.0</td>\n",
       "      <td>1.0</td>\n",
       "      <td>1.0</td>\n",
       "      <td>1</td>\n",
       "      <td>1</td>\n",
       "      <td>120</td>\n",
       "      <td>...</td>\n",
       "      <td>64</td>\n",
       "      <td>108</td>\n",
       "      <td>14.5</td>\n",
       "      <td>1</td>\n",
       "      <td>0.6</td>\n",
       "      <td>21</td>\n",
       "      <td>20</td>\n",
       "      <td>18</td>\n",
       "      <td>0</td>\n",
       "      <td>0</td>\n",
       "    </tr>\n",
       "    <tr>\n",
       "      <th>159253</th>\n",
       "      <td>159253</td>\n",
       "      <td>40</td>\n",
       "      <td>160</td>\n",
       "      <td>50</td>\n",
       "      <td>66.0</td>\n",
       "      <td>1.5</td>\n",
       "      <td>1.0</td>\n",
       "      <td>1</td>\n",
       "      <td>1</td>\n",
       "      <td>114</td>\n",
       "      <td>...</td>\n",
       "      <td>87</td>\n",
       "      <td>93</td>\n",
       "      <td>10.9</td>\n",
       "      <td>1</td>\n",
       "      <td>0.6</td>\n",
       "      <td>15</td>\n",
       "      <td>9</td>\n",
       "      <td>12</td>\n",
       "      <td>0</td>\n",
       "      <td>0</td>\n",
       "    </tr>\n",
       "    <tr>\n",
       "      <th>159254</th>\n",
       "      <td>159254</td>\n",
       "      <td>50</td>\n",
       "      <td>165</td>\n",
       "      <td>75</td>\n",
       "      <td>92.0</td>\n",
       "      <td>1.2</td>\n",
       "      <td>1.0</td>\n",
       "      <td>1</td>\n",
       "      <td>1</td>\n",
       "      <td>121</td>\n",
       "      <td>...</td>\n",
       "      <td>55</td>\n",
       "      <td>80</td>\n",
       "      <td>14.4</td>\n",
       "      <td>1</td>\n",
       "      <td>1.1</td>\n",
       "      <td>22</td>\n",
       "      <td>17</td>\n",
       "      <td>37</td>\n",
       "      <td>0</td>\n",
       "      <td>1</td>\n",
       "    </tr>\n",
       "    <tr>\n",
       "      <th>159255</th>\n",
       "      <td>159255</td>\n",
       "      <td>40</td>\n",
       "      <td>145</td>\n",
       "      <td>45</td>\n",
       "      <td>76.4</td>\n",
       "      <td>1.0</td>\n",
       "      <td>1.2</td>\n",
       "      <td>1</td>\n",
       "      <td>1</td>\n",
       "      <td>125</td>\n",
       "      <td>...</td>\n",
       "      <td>87</td>\n",
       "      <td>81</td>\n",
       "      <td>14.0</td>\n",
       "      <td>1</td>\n",
       "      <td>0.8</td>\n",
       "      <td>21</td>\n",
       "      <td>16</td>\n",
       "      <td>17</td>\n",
       "      <td>0</td>\n",
       "      <td>0</td>\n",
       "    </tr>\n",
       "  </tbody>\n",
       "</table>\n",
       "<p>5 rows × 24 columns</p>\n",
       "</div>"
      ],
      "text/plain": [
       "            id  age  height(cm)  weight(kg)  waist(cm)  eyesight(left)  \\\n",
       "159251  159251   40         155          45       69.0             1.5   \n",
       "159252  159252   50         155          75       82.0             1.0   \n",
       "159253  159253   40         160          50       66.0             1.5   \n",
       "159254  159254   50         165          75       92.0             1.2   \n",
       "159255  159255   40         145          45       76.4             1.0   \n",
       "\n",
       "        eyesight(right)  hearing(left)  hearing(right)  systolic  ...  HDL  \\\n",
       "159251              2.0              1               1       127  ...   72   \n",
       "159252              1.0              1               1       120  ...   64   \n",
       "159253              1.0              1               1       114  ...   87   \n",
       "159254              1.0              1               1       121  ...   55   \n",
       "159255              1.2              1               1       125  ...   87   \n",
       "\n",
       "        LDL  hemoglobin  Urine protein  serum creatinine  AST  ALT  Gtp  \\\n",
       "159251  159        14.5              1               0.8   25   26   13   \n",
       "159252  108        14.5              1               0.6   21   20   18   \n",
       "159253   93        10.9              1               0.6   15    9   12   \n",
       "159254   80        14.4              1               1.1   22   17   37   \n",
       "159255   81        14.0              1               0.8   21   16   17   \n",
       "\n",
       "        dental caries  smoking  \n",
       "159251              0        0  \n",
       "159252              0        0  \n",
       "159253              0        0  \n",
       "159254              0        1  \n",
       "159255              0        0  \n",
       "\n",
       "[5 rows x 24 columns]"
      ]
     },
     "execution_count": 68,
     "metadata": {},
     "output_type": "execute_result"
    }
   ],
   "source": [
    "df.tail()"
   ]
  },
  {
   "cell_type": "code",
   "execution_count": 69,
   "id": "e6a5e76a",
   "metadata": {},
   "outputs": [
    {
     "data": {
      "text/plain": [
       "id                     0\n",
       "age                    0\n",
       "height(cm)             0\n",
       "weight(kg)             0\n",
       "waist(cm)              0\n",
       "eyesight(left)         0\n",
       "eyesight(right)        0\n",
       "hearing(left)          0\n",
       "hearing(right)         0\n",
       "systolic               0\n",
       "relaxation             0\n",
       "fasting blood sugar    0\n",
       "Cholesterol            0\n",
       "triglyceride           0\n",
       "HDL                    0\n",
       "LDL                    0\n",
       "hemoglobin             0\n",
       "Urine protein          0\n",
       "serum creatinine       0\n",
       "AST                    0\n",
       "ALT                    0\n",
       "Gtp                    0\n",
       "dental caries          0\n",
       "smoking                0\n",
       "dtype: int64"
      ]
     },
     "execution_count": 69,
     "metadata": {},
     "output_type": "execute_result"
    }
   ],
   "source": [
    "df.isnull().sum()"
   ]
  },
  {
   "cell_type": "code",
   "execution_count": 70,
   "id": "54837945",
   "metadata": {},
   "outputs": [
    {
     "data": {
      "text/plain": [
       "(159256, 24)"
      ]
     },
     "execution_count": 70,
     "metadata": {},
     "output_type": "execute_result"
    }
   ],
   "source": [
    "df.shape"
   ]
  },
  {
   "cell_type": "markdown",
   "id": "e1d25b42",
   "metadata": {},
   "source": [
    "### 1.1.1 Missing values"
   ]
  },
  {
   "cell_type": "code",
   "execution_count": 71,
   "id": "113686e8",
   "metadata": {},
   "outputs": [
    {
     "data": {
      "text/plain": [
       "<Axes: >"
      ]
     },
     "execution_count": 71,
     "metadata": {},
     "output_type": "execute_result"
    },
    {
     "data": {
      "image/png": "[encoded data removed]",
      "text/plain": [
       "<Figure size 2500x1000 with 2 Axes>"
      ]
     },
     "metadata": {},
     "output_type": "display_data"
    }
   ],
   "source": [
    "msno.matrix(df)"
   ]
  },
  {
   "cell_type": "markdown",
   "id": "7f78b88d",
   "metadata": {},
   "source": [
    "### 1.1.2 Duplicates"
   ]
  },
  {
   "cell_type": "code",
   "execution_count": 72,
   "id": "e89742e1",
   "metadata": {},
   "outputs": [
    {
     "data": {
      "text/plain": [
       "0"
      ]
     },
     "execution_count": 72,
     "metadata": {},
     "output_type": "execute_result"
    }
   ],
   "source": [
    "df.duplicated().sum()"
   ]
  },
  {
   "cell_type": "markdown",
   "id": "7b603820",
   "metadata": {},
   "source": [
    "### 1.1.3 Target"
   ]
  },
  {
   "cell_type": "code",
   "execution_count": 73,
   "id": "bb83a1ac",
   "metadata": {},
   "outputs": [
    {
     "data": {
      "text/plain": [
       "smoking\n",
       "0    89603\n",
       "1    69653\n",
       "Name: count, dtype: int64"
      ]
     },
     "execution_count": 73,
     "metadata": {},
     "output_type": "execute_result"
    }
   ],
   "source": [
    "#>> Target\n",
    "df.smoking.value_counts()"
   ]
  },
  {
   "cell_type": "markdown",
   "id": "8cdd7720",
   "metadata": {},
   "source": [
    "### 1.1.4 Age"
   ]
  },
  {
   "cell_type": "code",
   "execution_count": 74,
   "id": "7e33045c",
   "metadata": {},
   "outputs": [
    {
     "data": {
      "image/png": "[encoded data removed]",
      "text/plain": [
       "<Figure size 640x480 with 1 Axes>"
      ]
     },
     "metadata": {},
     "output_type": "display_data"
    }
   ],
   "source": [
    "#Ploting Histogram to visualize people smoking based on their age group\n",
    "plt.hist(df[df['smoking']==1][['age']])\n",
    "plt.show()"
   ]
  },
  {
   "cell_type": "code",
   "execution_count": 75,
   "id": "15d3a9e8",
   "metadata": {},
   "outputs": [
    {
     "data": {
      "text/plain": [
       "20"
      ]
     },
     "execution_count": 75,
     "metadata": {},
     "output_type": "execute_result"
    }
   ],
   "source": [
    "df[\"age\"].min()"
   ]
  },
  {
   "cell_type": "code",
   "execution_count": 76,
   "id": "1fc817f7",
   "metadata": {},
   "outputs": [
    {
     "data": {
      "text/plain": [
       "85"
      ]
     },
     "execution_count": 76,
     "metadata": {},
     "output_type": "execute_result"
    }
   ],
   "source": [
    "df[\"age\"].max()"
   ]
  },
  {
   "cell_type": "markdown",
   "id": "28afc16f",
   "metadata": {},
   "source": [
    "## 1.2 Processing\n"
   ]
  },
  {
   "cell_type": "code",
   "execution_count": 77,
   "id": "a1dcb201",
   "metadata": {},
   "outputs": [
    {
     "name": "stdout",
     "output_type": "stream",
     "text": [
      "<class 'pandas.core.frame.DataFrame'>\n",
      "RangeIndex: 159256 entries, 0 to 159255\n",
      "Data columns (total 24 columns):\n",
      " #   Column               Non-Null Count   Dtype  \n",
      "---  ------               --------------   -----  \n",
      " 0   id                   159256 non-null  float32\n",
      " 1   age                  159256 non-null  float32\n",
      " 2   height(cm)           159256 non-null  float32\n",
      " 3   weight(kg)           159256 non-null  float32\n",
      " 4   waist(cm)            159256 non-null  float32\n",
      " 5   eyesight(left)       159256 non-null  float32\n",
      " 6   eyesight(right)      159256 non-null  float32\n",
      " 7   hearing(left)        159256 non-null  float32\n",
      " 8   hearing(right)       159256 non-null  float32\n",
      " 9   systolic             159256 non-null  float32\n",
      " 10  relaxation           159256 non-null  float32\n",
      " 11  fasting blood sugar  159256 non-null  float32\n",
      " 12  Cholesterol          159256 non-null  float32\n",
      " 13  triglyceride         159256 non-null  float32\n",
      " 14  HDL                  159256 non-null  float32\n",
      " 15  LDL                  159256 non-null  float32\n",
      " 16  hemoglobin           159256 non-null  float32\n",
      " 17  Urine protein        159256 non-null  float32\n",
      " 18  serum creatinine     159256 non-null  float32\n",
      " 19  AST                  159256 non-null  float32\n",
      " 20  ALT                  159256 non-null  float32\n",
      " 21  Gtp                  159256 non-null  float32\n",
      " 22  dental caries        159256 non-null  float32\n",
      " 23  smoking              159256 non-null  float32\n",
      "dtypes: float32(24)\n",
      "memory usage: 14.6 MB\n"
     ]
    }
   ],
   "source": [
    "df = df.astype(np.float32)\n",
    "df.info()"
   ]
  },
  {
   "cell_type": "markdown",
   "id": "33dfcc53",
   "metadata": {},
   "source": [
    "## 1.3 Adding features"
   ]
  },
  {
   "cell_type": "markdown",
   "id": "72f14c41",
   "metadata": {},
   "source": [
    "### 1.3.1 BMI\n",
    "bmi = weight / height (m) ^2"
   ]
  },
  {
   "cell_type": "code",
   "execution_count": 78,
   "id": "ca4ec8e3",
   "metadata": {},
   "outputs": [],
   "source": [
    "df[\"BMI\"] = df[\"weight(kg)\"] / ((df[\"height(cm)\"]/100)**2)"
   ]
  },
  {
   "cell_type": "code",
   "execution_count": 79,
   "id": "21c75137",
   "metadata": {},
   "outputs": [
    {
     "data": {
      "text/plain": [
       "11.718749046325684"
      ]
     },
     "execution_count": 79,
     "metadata": {},
     "output_type": "execute_result"
    }
   ],
   "source": [
    "df.BMI.min()"
   ]
  },
  {
   "cell_type": "code",
   "execution_count": 80,
   "id": "7d58e09d",
   "metadata": {},
   "outputs": [
    {
     "data": {
      "text/plain": [
       "45.785640716552734"
      ]
     },
     "execution_count": 80,
     "metadata": {},
     "output_type": "execute_result"
    }
   ],
   "source": [
    "df.BMI.max()"
   ]
  },
  {
   "cell_type": "markdown",
   "id": "8b993589",
   "metadata": {},
   "source": [
    "### 1.3.2 Hypertension\n",
    "Hypertention is defined as consistenyl elevated blood pressure levels, and systolic blood pressure is one of the key measurements used to diagnose and classify hypertension.\n",
    "- Normal: sys < 120, relax < 80\n",
    "- Elevated: sys 120 - 129, relax < 80\n",
    "- Hypertention stage 1: sys 130 - 139, relax 80 - 89\n",
    "- Hypertention stage 2: sys >= 140, relax > 90"
   ]
  },
  {
   "cell_type": "code",
   "execution_count": 81,
   "id": "18cc7a48",
   "metadata": {},
   "outputs": [
    {
     "data": {
      "text/plain": [
       "213.0"
      ]
     },
     "execution_count": 81,
     "metadata": {},
     "output_type": "execute_result"
    }
   ],
   "source": [
    "df['systolic'].max()"
   ]
  },
  {
   "cell_type": "code",
   "execution_count": 82,
   "id": "092ff84d",
   "metadata": {},
   "outputs": [],
   "source": [
    "def categorize_hypertension(df):\n",
    "    if df['systolic'] >= 140 or df['relaxation'] >= 90:\n",
    "        return 1\n",
    "    else:\n",
    "        return 0\n",
    "    \n",
    "df['hypertension'] = df.apply(categorize_hypertension, axis=1)\n"
   ]
  },
  {
   "cell_type": "code",
   "execution_count": 83,
   "id": "463eff67",
   "metadata": {},
   "outputs": [
    {
     "data": {
      "text/plain": [
       "hypertension\n",
       "0    141751\n",
       "1     17505\n",
       "Name: count, dtype: int64"
      ]
     },
     "execution_count": 83,
     "metadata": {},
     "output_type": "execute_result"
    }
   ],
   "source": [
    "df['hypertension'].value_counts()"
   ]
  },
  {
   "cell_type": "markdown",
   "id": "7b0ca929",
   "metadata": {},
   "source": [
    "## 1.4 Categorical variables\n",
    "- Dental caries: 0, 1\n",
    "- Urine protein: 1, 2, 3, 4, 5, 6\n",
    "- Hearing left/right: 1, 2\n",
    "- Hypertension: normal, elevated, stage 1, stage 2"
   ]
  },
  {
   "cell_type": "code",
   "execution_count": 84,
   "id": "d9af5ca0",
   "metadata": {},
   "outputs": [],
   "source": [
    "def preprocess(df):\n",
    "    df = pd.get_dummies(df, columns = [\"hearing(left)\",\"hearing(right)\",\"Urine protein\",\"dental caries\", \"hypertension\"],dtype = 'int8')\n",
    "    return df"
   ]
  },
  {
   "cell_type": "code",
   "execution_count": 85,
   "id": "6c9ab900",
   "metadata": {},
   "outputs": [],
   "source": [
    "df = preprocess(df)"
   ]
  },
  {
   "cell_type": "code",
   "execution_count": 86,
   "id": "596d2a0c",
   "metadata": {},
   "outputs": [
    {
     "data": {
      "text/html": [
       "<div>\n",
       "<style scoped>\n",
       "    .dataframe tbody tr th:only-of-type {\n",
       "        vertical-align: middle;\n",
       "    }\n",
       "\n",
       "    .dataframe tbody tr th {\n",
       "        vertical-align: top;\n",
       "    }\n",
       "\n",
       "    .dataframe thead th {\n",
       "        text-align: right;\n",
       "    }\n",
       "</style>\n",
       "<table border=\"1\" class=\"dataframe\">\n",
       "  <thead>\n",
       "    <tr style=\"text-align: right;\">\n",
       "      <th></th>\n",
       "      <th>id</th>\n",
       "      <th>age</th>\n",
       "      <th>height(cm)</th>\n",
       "      <th>weight(kg)</th>\n",
       "      <th>waist(cm)</th>\n",
       "      <th>eyesight(left)</th>\n",
       "      <th>eyesight(right)</th>\n",
       "      <th>systolic</th>\n",
       "      <th>relaxation</th>\n",
       "      <th>fasting blood sugar</th>\n",
       "      <th>...</th>\n",
       "      <th>Urine protein_1.0</th>\n",
       "      <th>Urine protein_2.0</th>\n",
       "      <th>Urine protein_3.0</th>\n",
       "      <th>Urine protein_4.0</th>\n",
       "      <th>Urine protein_5.0</th>\n",
       "      <th>Urine protein_6.0</th>\n",
       "      <th>dental caries_0.0</th>\n",
       "      <th>dental caries_1.0</th>\n",
       "      <th>hypertension_0</th>\n",
       "      <th>hypertension_1</th>\n",
       "    </tr>\n",
       "  </thead>\n",
       "  <tbody>\n",
       "    <tr>\n",
       "      <th>0</th>\n",
       "      <td>0.0</td>\n",
       "      <td>55.0</td>\n",
       "      <td>165.0</td>\n",
       "      <td>60.0</td>\n",
       "      <td>81.000000</td>\n",
       "      <td>0.5</td>\n",
       "      <td>0.6</td>\n",
       "      <td>135.0</td>\n",
       "      <td>87.0</td>\n",
       "      <td>94.0</td>\n",
       "      <td>...</td>\n",
       "      <td>1</td>\n",
       "      <td>0</td>\n",
       "      <td>0</td>\n",
       "      <td>0</td>\n",
       "      <td>0</td>\n",
       "      <td>0</td>\n",
       "      <td>1</td>\n",
       "      <td>0</td>\n",
       "      <td>1</td>\n",
       "      <td>0</td>\n",
       "    </tr>\n",
       "    <tr>\n",
       "      <th>1</th>\n",
       "      <td>1.0</td>\n",
       "      <td>70.0</td>\n",
       "      <td>165.0</td>\n",
       "      <td>65.0</td>\n",
       "      <td>89.000000</td>\n",
       "      <td>0.6</td>\n",
       "      <td>0.7</td>\n",
       "      <td>146.0</td>\n",
       "      <td>83.0</td>\n",
       "      <td>147.0</td>\n",
       "      <td>...</td>\n",
       "      <td>1</td>\n",
       "      <td>0</td>\n",
       "      <td>0</td>\n",
       "      <td>0</td>\n",
       "      <td>0</td>\n",
       "      <td>0</td>\n",
       "      <td>0</td>\n",
       "      <td>1</td>\n",
       "      <td>0</td>\n",
       "      <td>1</td>\n",
       "    </tr>\n",
       "    <tr>\n",
       "      <th>2</th>\n",
       "      <td>2.0</td>\n",
       "      <td>20.0</td>\n",
       "      <td>170.0</td>\n",
       "      <td>75.0</td>\n",
       "      <td>81.000000</td>\n",
       "      <td>0.4</td>\n",
       "      <td>0.5</td>\n",
       "      <td>118.0</td>\n",
       "      <td>75.0</td>\n",
       "      <td>79.0</td>\n",
       "      <td>...</td>\n",
       "      <td>1</td>\n",
       "      <td>0</td>\n",
       "      <td>0</td>\n",
       "      <td>0</td>\n",
       "      <td>0</td>\n",
       "      <td>0</td>\n",
       "      <td>1</td>\n",
       "      <td>0</td>\n",
       "      <td>1</td>\n",
       "      <td>0</td>\n",
       "    </tr>\n",
       "    <tr>\n",
       "      <th>3</th>\n",
       "      <td>3.0</td>\n",
       "      <td>35.0</td>\n",
       "      <td>180.0</td>\n",
       "      <td>95.0</td>\n",
       "      <td>105.000000</td>\n",
       "      <td>1.5</td>\n",
       "      <td>1.2</td>\n",
       "      <td>131.0</td>\n",
       "      <td>88.0</td>\n",
       "      <td>91.0</td>\n",
       "      <td>...</td>\n",
       "      <td>1</td>\n",
       "      <td>0</td>\n",
       "      <td>0</td>\n",
       "      <td>0</td>\n",
       "      <td>0</td>\n",
       "      <td>0</td>\n",
       "      <td>0</td>\n",
       "      <td>1</td>\n",
       "      <td>1</td>\n",
       "      <td>0</td>\n",
       "    </tr>\n",
       "    <tr>\n",
       "      <th>4</th>\n",
       "      <td>4.0</td>\n",
       "      <td>30.0</td>\n",
       "      <td>165.0</td>\n",
       "      <td>60.0</td>\n",
       "      <td>80.500000</td>\n",
       "      <td>1.5</td>\n",
       "      <td>1.0</td>\n",
       "      <td>121.0</td>\n",
       "      <td>76.0</td>\n",
       "      <td>91.0</td>\n",
       "      <td>...</td>\n",
       "      <td>1</td>\n",
       "      <td>0</td>\n",
       "      <td>0</td>\n",
       "      <td>0</td>\n",
       "      <td>0</td>\n",
       "      <td>0</td>\n",
       "      <td>1</td>\n",
       "      <td>0</td>\n",
       "      <td>1</td>\n",
       "      <td>0</td>\n",
       "    </tr>\n",
       "    <tr>\n",
       "      <th>...</th>\n",
       "      <td>...</td>\n",
       "      <td>...</td>\n",
       "      <td>...</td>\n",
       "      <td>...</td>\n",
       "      <td>...</td>\n",
       "      <td>...</td>\n",
       "      <td>...</td>\n",
       "      <td>...</td>\n",
       "      <td>...</td>\n",
       "      <td>...</td>\n",
       "      <td>...</td>\n",
       "      <td>...</td>\n",
       "      <td>...</td>\n",
       "      <td>...</td>\n",
       "      <td>...</td>\n",
       "      <td>...</td>\n",
       "      <td>...</td>\n",
       "      <td>...</td>\n",
       "      <td>...</td>\n",
       "      <td>...</td>\n",
       "      <td>...</td>\n",
       "    </tr>\n",
       "    <tr>\n",
       "      <th>159251</th>\n",
       "      <td>159251.0</td>\n",
       "      <td>40.0</td>\n",
       "      <td>155.0</td>\n",
       "      <td>45.0</td>\n",
       "      <td>69.000000</td>\n",
       "      <td>1.5</td>\n",
       "      <td>2.0</td>\n",
       "      <td>127.0</td>\n",
       "      <td>80.0</td>\n",
       "      <td>64.0</td>\n",
       "      <td>...</td>\n",
       "      <td>1</td>\n",
       "      <td>0</td>\n",
       "      <td>0</td>\n",
       "      <td>0</td>\n",
       "      <td>0</td>\n",
       "      <td>0</td>\n",
       "      <td>1</td>\n",
       "      <td>0</td>\n",
       "      <td>1</td>\n",
       "      <td>0</td>\n",
       "    </tr>\n",
       "    <tr>\n",
       "      <th>159252</th>\n",
       "      <td>159252.0</td>\n",
       "      <td>50.0</td>\n",
       "      <td>155.0</td>\n",
       "      <td>75.0</td>\n",
       "      <td>82.000000</td>\n",
       "      <td>1.0</td>\n",
       "      <td>1.0</td>\n",
       "      <td>120.0</td>\n",
       "      <td>80.0</td>\n",
       "      <td>89.0</td>\n",
       "      <td>...</td>\n",
       "      <td>1</td>\n",
       "      <td>0</td>\n",
       "      <td>0</td>\n",
       "      <td>0</td>\n",
       "      <td>0</td>\n",
       "      <td>0</td>\n",
       "      <td>1</td>\n",
       "      <td>0</td>\n",
       "      <td>1</td>\n",
       "      <td>0</td>\n",
       "    </tr>\n",
       "    <tr>\n",
       "      <th>159253</th>\n",
       "      <td>159253.0</td>\n",
       "      <td>40.0</td>\n",
       "      <td>160.0</td>\n",
       "      <td>50.0</td>\n",
       "      <td>66.000000</td>\n",
       "      <td>1.5</td>\n",
       "      <td>1.0</td>\n",
       "      <td>114.0</td>\n",
       "      <td>70.0</td>\n",
       "      <td>84.0</td>\n",
       "      <td>...</td>\n",
       "      <td>1</td>\n",
       "      <td>0</td>\n",
       "      <td>0</td>\n",
       "      <td>0</td>\n",
       "      <td>0</td>\n",
       "      <td>0</td>\n",
       "      <td>1</td>\n",
       "      <td>0</td>\n",
       "      <td>1</td>\n",
       "      <td>0</td>\n",
       "    </tr>\n",
       "    <tr>\n",
       "      <th>159254</th>\n",
       "      <td>159254.0</td>\n",
       "      <td>50.0</td>\n",
       "      <td>165.0</td>\n",
       "      <td>75.0</td>\n",
       "      <td>92.000000</td>\n",
       "      <td>1.2</td>\n",
       "      <td>1.0</td>\n",
       "      <td>121.0</td>\n",
       "      <td>90.0</td>\n",
       "      <td>122.0</td>\n",
       "      <td>...</td>\n",
       "      <td>1</td>\n",
       "      <td>0</td>\n",
       "      <td>0</td>\n",
       "      <td>0</td>\n",
       "      <td>0</td>\n",
       "      <td>0</td>\n",
       "      <td>1</td>\n",
       "      <td>0</td>\n",
       "      <td>0</td>\n",
       "      <td>1</td>\n",
       "    </tr>\n",
       "    <tr>\n",
       "      <th>159255</th>\n",
       "      <td>159255.0</td>\n",
       "      <td>40.0</td>\n",
       "      <td>145.0</td>\n",
       "      <td>45.0</td>\n",
       "      <td>76.400002</td>\n",
       "      <td>1.0</td>\n",
       "      <td>1.2</td>\n",
       "      <td>125.0</td>\n",
       "      <td>87.0</td>\n",
       "      <td>83.0</td>\n",
       "      <td>...</td>\n",
       "      <td>1</td>\n",
       "      <td>0</td>\n",
       "      <td>0</td>\n",
       "      <td>0</td>\n",
       "      <td>0</td>\n",
       "      <td>0</td>\n",
       "      <td>1</td>\n",
       "      <td>0</td>\n",
       "      <td>1</td>\n",
       "      <td>0</td>\n",
       "    </tr>\n",
       "  </tbody>\n",
       "</table>\n",
       "<p>159256 rows × 35 columns</p>\n",
       "</div>"
      ],
      "text/plain": [
       "              id   age  height(cm)  weight(kg)   waist(cm)  eyesight(left)  \\\n",
       "0            0.0  55.0       165.0        60.0   81.000000             0.5   \n",
       "1            1.0  70.0       165.0        65.0   89.000000             0.6   \n",
       "2            2.0  20.0       170.0        75.0   81.000000             0.4   \n",
       "3            3.0  35.0       180.0        95.0  105.000000             1.5   \n",
       "4            4.0  30.0       165.0        60.0   80.500000             1.5   \n",
       "...          ...   ...         ...         ...         ...             ...   \n",
       "159251  159251.0  40.0       155.0        45.0   69.000000             1.5   \n",
       "159252  159252.0  50.0       155.0        75.0   82.000000             1.0   \n",
       "159253  159253.0  40.0       160.0        50.0   66.000000             1.5   \n",
       "159254  159254.0  50.0       165.0        75.0   92.000000             1.2   \n",
       "159255  159255.0  40.0       145.0        45.0   76.400002             1.0   \n",
       "\n",
       "        eyesight(right)  systolic  relaxation  fasting blood sugar  ...  \\\n",
       "0                   0.6     135.0        87.0                 94.0  ...   \n",
       "1                   0.7     146.0        83.0                147.0  ...   \n",
       "2                   0.5     118.0        75.0                 79.0  ...   \n",
       "3                   1.2     131.0        88.0                 91.0  ...   \n",
       "4                   1.0     121.0        76.0                 91.0  ...   \n",
       "...                 ...       ...         ...                  ...  ...   \n",
       "159251              2.0     127.0        80.0                 64.0  ...   \n",
       "159252              1.0     120.0        80.0                 89.0  ...   \n",
       "159253              1.0     114.0        70.0                 84.0  ...   \n",
       "159254              1.0     121.0        90.0                122.0  ...   \n",
       "159255              1.2     125.0        87.0                 83.0  ...   \n",
       "\n",
       "        Urine protein_1.0  Urine protein_2.0  Urine protein_3.0  \\\n",
       "0                       1                  0                  0   \n",
       "1                       1                  0                  0   \n",
       "2                       1                  0                  0   \n",
       "3                       1                  0                  0   \n",
       "4                       1                  0                  0   \n",
       "...                   ...                ...                ...   \n",
       "159251                  1                  0                  0   \n",
       "159252                  1                  0                  0   \n",
       "159253                  1                  0                  0   \n",
       "159254                  1                  0                  0   \n",
       "159255                  1                  0                  0   \n",
       "\n",
       "        Urine protein_4.0  Urine protein_5.0  Urine protein_6.0  \\\n",
       "0                       0                  0                  0   \n",
       "1                       0                  0                  0   \n",
       "2                       0                  0                  0   \n",
       "3                       0                  0                  0   \n",
       "4                       0                  0                  0   \n",
       "...                   ...                ...                ...   \n",
       "159251                  0                  0                  0   \n",
       "159252                  0                  0                  0   \n",
       "159253                  0                  0                  0   \n",
       "159254                  0                  0                  0   \n",
       "159255                  0                  0                  0   \n",
       "\n",
       "        dental caries_0.0  dental caries_1.0  hypertension_0  hypertension_1  \n",
       "0                       1                  0               1               0  \n",
       "1                       0                  1               0               1  \n",
       "2                       1                  0               1               0  \n",
       "3                       0                  1               1               0  \n",
       "4                       1                  0               1               0  \n",
       "...                   ...                ...             ...             ...  \n",
       "159251                  1                  0               1               0  \n",
       "159252                  1                  0               1               0  \n",
       "159253                  1                  0               1               0  \n",
       "159254                  1                  0               0               1  \n",
       "159255                  1                  0               1               0  \n",
       "\n",
       "[159256 rows x 35 columns]"
      ]
     },
     "execution_count": 86,
     "metadata": {},
     "output_type": "execute_result"
    }
   ],
   "source": [
    "df"
   ]
  },
  {
   "cell_type": "markdown",
   "id": "12b5c8b9",
   "metadata": {},
   "source": [
    "## 1.5 Feature selection"
   ]
  },
  {
   "cell_type": "code",
   "execution_count": 87,
   "id": "86f8963f",
   "metadata": {},
   "outputs": [
    {
     "data": {
      "text/plain": [
       "smoking              1.000000\n",
       "hemoglobin           0.450679\n",
       "height(cm)           0.447111\n",
       "weight(kg)           0.351748\n",
       "triglyceride         0.331975\n",
       "Gtp                  0.305561\n",
       "serum creatinine     0.272979\n",
       "HDL                  0.271186\n",
       "waist(cm)            0.262715\n",
       "age                  0.206033\n",
       "ALT                  0.163016\n",
       "BMI                  0.141723\n",
       "eyesight(right)      0.109781\n",
       "relaxation           0.109501\n",
       "dental caries_0.0    0.106636\n",
       "Name: smoking, dtype: float64"
      ]
     },
     "execution_count": 87,
     "metadata": {},
     "output_type": "execute_result"
    }
   ],
   "source": [
    "cor = df.corr()[\"smoking\"].abs().sort_values(ascending=False)\n",
    "\n",
    "cor.head(15)"
   ]
  },
  {
   "cell_type": "code",
   "execution_count": 88,
   "id": "52ec64ce",
   "metadata": {},
   "outputs": [
    {
     "data": {
      "text/plain": [
       "systolic              0.058642\n",
       "Cholesterol           0.051896\n",
       "hearing(left)_2.0     0.038219\n",
       "hearing(left)_1.0     0.038219\n",
       "hearing(right)_1.0    0.036858\n",
       "hearing(right)_2.0    0.036858\n",
       "Urine protein_1.0     0.032247\n",
       "Urine protein_2.0     0.026999\n",
       "hypertension_0        0.023920\n",
       "hypertension_1        0.023920\n",
       "Urine protein_3.0     0.015999\n",
       "Urine protein_6.0     0.005412\n",
       "Urine protein_4.0     0.004314\n",
       "Urine protein_5.0     0.003739\n",
       "id                    0.000632\n",
       "Name: smoking, dtype: float64"
      ]
     },
     "execution_count": 88,
     "metadata": {},
     "output_type": "execute_result"
    }
   ],
   "source": [
    "cor.tail(15)"
   ]
  },
  {
   "cell_type": "code",
   "execution_count": 89,
   "id": "8bb2bdc5",
   "metadata": {},
   "outputs": [
    {
     "data": {
      "text/html": [
       "<div>\n",
       "<style scoped>\n",
       "    .dataframe tbody tr th:only-of-type {\n",
       "        vertical-align: middle;\n",
       "    }\n",
       "\n",
       "    .dataframe tbody tr th {\n",
       "        vertical-align: top;\n",
       "    }\n",
       "\n",
       "    .dataframe thead th {\n",
       "        text-align: right;\n",
       "    }\n",
       "</style>\n",
       "<table border=\"1\" class=\"dataframe\">\n",
       "  <thead>\n",
       "    <tr style=\"text-align: right;\">\n",
       "      <th></th>\n",
       "      <th>smoking</th>\n",
       "      <th>hemoglobin</th>\n",
       "      <th>height(cm)</th>\n",
       "      <th>weight(kg)</th>\n",
       "      <th>triglyceride</th>\n",
       "      <th>Gtp</th>\n",
       "      <th>hypertension_0</th>\n",
       "      <th>hypertension_1</th>\n",
       "    </tr>\n",
       "  </thead>\n",
       "  <tbody>\n",
       "    <tr>\n",
       "      <th>0</th>\n",
       "      <td>1.0</td>\n",
       "      <td>16.500000</td>\n",
       "      <td>165.0</td>\n",
       "      <td>60.0</td>\n",
       "      <td>300.0</td>\n",
       "      <td>27.0</td>\n",
       "      <td>1</td>\n",
       "      <td>0</td>\n",
       "    </tr>\n",
       "    <tr>\n",
       "      <th>1</th>\n",
       "      <td>0.0</td>\n",
       "      <td>16.200001</td>\n",
       "      <td>165.0</td>\n",
       "      <td>65.0</td>\n",
       "      <td>55.0</td>\n",
       "      <td>37.0</td>\n",
       "      <td>0</td>\n",
       "      <td>1</td>\n",
       "    </tr>\n",
       "    <tr>\n",
       "      <th>2</th>\n",
       "      <td>1.0</td>\n",
       "      <td>17.400000</td>\n",
       "      <td>170.0</td>\n",
       "      <td>75.0</td>\n",
       "      <td>197.0</td>\n",
       "      <td>53.0</td>\n",
       "      <td>1</td>\n",
       "      <td>0</td>\n",
       "    </tr>\n",
       "    <tr>\n",
       "      <th>3</th>\n",
       "      <td>0.0</td>\n",
       "      <td>15.900000</td>\n",
       "      <td>180.0</td>\n",
       "      <td>95.0</td>\n",
       "      <td>203.0</td>\n",
       "      <td>30.0</td>\n",
       "      <td>1</td>\n",
       "      <td>0</td>\n",
       "    </tr>\n",
       "    <tr>\n",
       "      <th>4</th>\n",
       "      <td>1.0</td>\n",
       "      <td>15.400000</td>\n",
       "      <td>165.0</td>\n",
       "      <td>60.0</td>\n",
       "      <td>87.0</td>\n",
       "      <td>17.0</td>\n",
       "      <td>1</td>\n",
       "      <td>0</td>\n",
       "    </tr>\n",
       "    <tr>\n",
       "      <th>...</th>\n",
       "      <td>...</td>\n",
       "      <td>...</td>\n",
       "      <td>...</td>\n",
       "      <td>...</td>\n",
       "      <td>...</td>\n",
       "      <td>...</td>\n",
       "      <td>...</td>\n",
       "      <td>...</td>\n",
       "    </tr>\n",
       "    <tr>\n",
       "      <th>159251</th>\n",
       "      <td>0.0</td>\n",
       "      <td>14.500000</td>\n",
       "      <td>155.0</td>\n",
       "      <td>45.0</td>\n",
       "      <td>47.0</td>\n",
       "      <td>13.0</td>\n",
       "      <td>1</td>\n",
       "      <td>0</td>\n",
       "    </tr>\n",
       "    <tr>\n",
       "      <th>159252</th>\n",
       "      <td>0.0</td>\n",
       "      <td>14.500000</td>\n",
       "      <td>155.0</td>\n",
       "      <td>75.0</td>\n",
       "      <td>202.0</td>\n",
       "      <td>18.0</td>\n",
       "      <td>1</td>\n",
       "      <td>0</td>\n",
       "    </tr>\n",
       "    <tr>\n",
       "      <th>159253</th>\n",
       "      <td>0.0</td>\n",
       "      <td>10.900000</td>\n",
       "      <td>160.0</td>\n",
       "      <td>50.0</td>\n",
       "      <td>45.0</td>\n",
       "      <td>12.0</td>\n",
       "      <td>1</td>\n",
       "      <td>0</td>\n",
       "    </tr>\n",
       "    <tr>\n",
       "      <th>159254</th>\n",
       "      <td>1.0</td>\n",
       "      <td>14.400000</td>\n",
       "      <td>165.0</td>\n",
       "      <td>75.0</td>\n",
       "      <td>148.0</td>\n",
       "      <td>37.0</td>\n",
       "      <td>0</td>\n",
       "      <td>1</td>\n",
       "    </tr>\n",
       "    <tr>\n",
       "      <th>159255</th>\n",
       "      <td>0.0</td>\n",
       "      <td>14.000000</td>\n",
       "      <td>145.0</td>\n",
       "      <td>45.0</td>\n",
       "      <td>87.0</td>\n",
       "      <td>17.0</td>\n",
       "      <td>1</td>\n",
       "      <td>0</td>\n",
       "    </tr>\n",
       "  </tbody>\n",
       "</table>\n",
       "<p>159256 rows × 8 columns</p>\n",
       "</div>"
      ],
      "text/plain": [
       "        smoking  hemoglobin  height(cm)  weight(kg)  triglyceride   Gtp  \\\n",
       "0           1.0   16.500000       165.0        60.0         300.0  27.0   \n",
       "1           0.0   16.200001       165.0        65.0          55.0  37.0   \n",
       "2           1.0   17.400000       170.0        75.0         197.0  53.0   \n",
       "3           0.0   15.900000       180.0        95.0         203.0  30.0   \n",
       "4           1.0   15.400000       165.0        60.0          87.0  17.0   \n",
       "...         ...         ...         ...         ...           ...   ...   \n",
       "159251      0.0   14.500000       155.0        45.0          47.0  13.0   \n",
       "159252      0.0   14.500000       155.0        75.0         202.0  18.0   \n",
       "159253      0.0   10.900000       160.0        50.0          45.0  12.0   \n",
       "159254      1.0   14.400000       165.0        75.0         148.0  37.0   \n",
       "159255      0.0   14.000000       145.0        45.0          87.0  17.0   \n",
       "\n",
       "        hypertension_0  hypertension_1  \n",
       "0                    1               0  \n",
       "1                    0               1  \n",
       "2                    1               0  \n",
       "3                    1               0  \n",
       "4                    1               0  \n",
       "...                ...             ...  \n",
       "159251               1               0  \n",
       "159252               1               0  \n",
       "159253               1               0  \n",
       "159254               0               1  \n",
       "159255               1               0  \n",
       "\n",
       "[159256 rows x 8 columns]"
      ]
     },
     "execution_count": 89,
     "metadata": {},
     "output_type": "execute_result"
    }
   ],
   "source": [
    "#top5 = cor.head(6)\n",
    "\n",
    "selected_columns = [\"smoking\",\"hemoglobin\", \"height(cm)\", \"weight(kg)\", \"triglyceride\", \"Gtp\", \"hypertension_0\", \"hypertension_1\"]\n",
    "\n",
    "subset = df[selected_columns]\n",
    "subset"
   ]
  },
  {
   "cell_type": "code",
   "execution_count": 90,
   "id": "24a509e1",
   "metadata": {},
   "outputs": [
    {
     "name": "stdout",
     "output_type": "stream",
     "text": [
      "<class 'pandas.core.frame.DataFrame'>\n",
      "RangeIndex: 159256 entries, 0 to 159255\n",
      "Data columns (total 8 columns):\n",
      " #   Column          Non-Null Count   Dtype  \n",
      "---  ------          --------------   -----  \n",
      " 0   smoking         159256 non-null  float32\n",
      " 1   hemoglobin      159256 non-null  float32\n",
      " 2   height(cm)      159256 non-null  float32\n",
      " 3   weight(kg)      159256 non-null  float32\n",
      " 4   triglyceride    159256 non-null  float32\n",
      " 5   Gtp             159256 non-null  float32\n",
      " 6   hypertension_0  159256 non-null  int8   \n",
      " 7   hypertension_1  159256 non-null  int8   \n",
      "dtypes: float32(6), int8(2)\n",
      "memory usage: 3.9 MB\n"
     ]
    }
   ],
   "source": [
    "subset.info()"
   ]
  },
  {
   "cell_type": "code",
   "execution_count": 91,
   "id": "63501aba",
   "metadata": {},
   "outputs": [
    {
     "name": "stderr",
     "output_type": "stream",
     "text": [
      "/Users/michellehu/anaconda3/lib/python3.11/site-packages/seaborn/_oldcore.py:1498: FutureWarning: is_categorical_dtype is deprecated and will be removed in a future version. Use isinstance(dtype, CategoricalDtype) instead\n",
      "  if pd.api.types.is_categorical_dtype(vector):\n",
      "/Users/michellehu/anaconda3/lib/python3.11/site-packages/seaborn/_oldcore.py:1498: FutureWarning: is_categorical_dtype is deprecated and will be removed in a future version. Use isinstance(dtype, CategoricalDtype) instead\n",
      "  if pd.api.types.is_categorical_dtype(vector):\n",
      "/Users/michellehu/anaconda3/lib/python3.11/site-packages/seaborn/_oldcore.py:1498: FutureWarning: is_categorical_dtype is deprecated and will be removed in a future version. Use isinstance(dtype, CategoricalDtype) instead\n",
      "  if pd.api.types.is_categorical_dtype(vector):\n"
     ]
    },
    {
     "data": {
      "image/png": "[encoded data removed]",
      "text/plain": [
       "<Figure size 1000x600 with 1 Axes>"
      ]
     },
     "metadata": {},
     "output_type": "display_data"
    }
   ],
   "source": [
    "# Melt the DataFrame to long format for boxplot\n",
    "subset_melted = pd.melt(subset, id_vars='smoking')\n",
    "\n",
    "# Visualize the relationship with boxplot\n",
    "plt.figure(figsize=(10, 6))\n",
    "sns.boxplot(data=subset_melted, x='variable', y='value')\n",
    "plt.title('Boxplot of Top 5 Features vs Target Variable')\n",
    "plt.xticks(rotation=45, ha='right')\n",
    "plt.show()"
   ]
  },
  {
   "cell_type": "code",
   "execution_count": 92,
   "id": "f3d0f401",
   "metadata": {},
   "outputs": [
    {
     "data": {
      "image/png": "[encoded data removed]",
      "text/plain": [
       "<Figure size 500x500 with 2 Axes>"
      ]
     },
     "metadata": {},
     "output_type": "display_data"
    }
   ],
   "source": [
    "fig, ax = plt.subplots(figsize=(5,5))\n",
    "\n",
    "sns.heatmap(subset.corr()[['smoking']].abs().sort_values('smoking'),\n",
    "            vmax=1, vmin=-1, annot=True, ax=ax, cmap=\"GnBu\");\n",
    "\n",
    "ax.invert_yaxis()\n",
    "plt.tick_params(axis='both', which='major', labelsize=14)\n",
    "plt.show()"
   ]
  },
  {
   "cell_type": "markdown",
   "id": "c2983346",
   "metadata": {},
   "source": [
    "## 1.4 Outliers - PCA"
   ]
  },
  {
   "cell_type": "code",
   "execution_count": 93,
   "id": "4d15b2e4",
   "metadata": {},
   "outputs": [
    {
     "data": {
      "text/html": [
       "<div>\n",
       "<style scoped>\n",
       "    .dataframe tbody tr th:only-of-type {\n",
       "        vertical-align: middle;\n",
       "    }\n",
       "\n",
       "    .dataframe tbody tr th {\n",
       "        vertical-align: top;\n",
       "    }\n",
       "\n",
       "    .dataframe thead th {\n",
       "        text-align: right;\n",
       "    }\n",
       "</style>\n",
       "<table border=\"1\" class=\"dataframe\">\n",
       "  <thead>\n",
       "    <tr style=\"text-align: right;\">\n",
       "      <th></th>\n",
       "      <th>smoking</th>\n",
       "      <th>hemoglobin</th>\n",
       "      <th>height(cm)</th>\n",
       "      <th>weight(kg)</th>\n",
       "      <th>triglyceride</th>\n",
       "      <th>Gtp</th>\n",
       "      <th>hypertension_0</th>\n",
       "      <th>hypertension_1</th>\n",
       "    </tr>\n",
       "  </thead>\n",
       "  <tbody>\n",
       "    <tr>\n",
       "      <th>0</th>\n",
       "      <td>1.0</td>\n",
       "      <td>16.500000</td>\n",
       "      <td>165.0</td>\n",
       "      <td>60.0</td>\n",
       "      <td>300.0</td>\n",
       "      <td>27.0</td>\n",
       "      <td>1</td>\n",
       "      <td>0</td>\n",
       "    </tr>\n",
       "    <tr>\n",
       "      <th>1</th>\n",
       "      <td>0.0</td>\n",
       "      <td>16.200001</td>\n",
       "      <td>165.0</td>\n",
       "      <td>65.0</td>\n",
       "      <td>55.0</td>\n",
       "      <td>37.0</td>\n",
       "      <td>0</td>\n",
       "      <td>1</td>\n",
       "    </tr>\n",
       "    <tr>\n",
       "      <th>2</th>\n",
       "      <td>1.0</td>\n",
       "      <td>17.400000</td>\n",
       "      <td>170.0</td>\n",
       "      <td>75.0</td>\n",
       "      <td>197.0</td>\n",
       "      <td>53.0</td>\n",
       "      <td>1</td>\n",
       "      <td>0</td>\n",
       "    </tr>\n",
       "    <tr>\n",
       "      <th>3</th>\n",
       "      <td>0.0</td>\n",
       "      <td>15.900000</td>\n",
       "      <td>180.0</td>\n",
       "      <td>95.0</td>\n",
       "      <td>203.0</td>\n",
       "      <td>30.0</td>\n",
       "      <td>1</td>\n",
       "      <td>0</td>\n",
       "    </tr>\n",
       "    <tr>\n",
       "      <th>4</th>\n",
       "      <td>1.0</td>\n",
       "      <td>15.400000</td>\n",
       "      <td>165.0</td>\n",
       "      <td>60.0</td>\n",
       "      <td>87.0</td>\n",
       "      <td>17.0</td>\n",
       "      <td>1</td>\n",
       "      <td>0</td>\n",
       "    </tr>\n",
       "    <tr>\n",
       "      <th>...</th>\n",
       "      <td>...</td>\n",
       "      <td>...</td>\n",
       "      <td>...</td>\n",
       "      <td>...</td>\n",
       "      <td>...</td>\n",
       "      <td>...</td>\n",
       "      <td>...</td>\n",
       "      <td>...</td>\n",
       "    </tr>\n",
       "    <tr>\n",
       "      <th>159251</th>\n",
       "      <td>0.0</td>\n",
       "      <td>14.500000</td>\n",
       "      <td>155.0</td>\n",
       "      <td>45.0</td>\n",
       "      <td>47.0</td>\n",
       "      <td>13.0</td>\n",
       "      <td>1</td>\n",
       "      <td>0</td>\n",
       "    </tr>\n",
       "    <tr>\n",
       "      <th>159252</th>\n",
       "      <td>0.0</td>\n",
       "      <td>14.500000</td>\n",
       "      <td>155.0</td>\n",
       "      <td>75.0</td>\n",
       "      <td>202.0</td>\n",
       "      <td>18.0</td>\n",
       "      <td>1</td>\n",
       "      <td>0</td>\n",
       "    </tr>\n",
       "    <tr>\n",
       "      <th>159253</th>\n",
       "      <td>0.0</td>\n",
       "      <td>10.900000</td>\n",
       "      <td>160.0</td>\n",
       "      <td>50.0</td>\n",
       "      <td>45.0</td>\n",
       "      <td>12.0</td>\n",
       "      <td>1</td>\n",
       "      <td>0</td>\n",
       "    </tr>\n",
       "    <tr>\n",
       "      <th>159254</th>\n",
       "      <td>1.0</td>\n",
       "      <td>14.400000</td>\n",
       "      <td>165.0</td>\n",
       "      <td>75.0</td>\n",
       "      <td>148.0</td>\n",
       "      <td>37.0</td>\n",
       "      <td>0</td>\n",
       "      <td>1</td>\n",
       "    </tr>\n",
       "    <tr>\n",
       "      <th>159255</th>\n",
       "      <td>0.0</td>\n",
       "      <td>14.000000</td>\n",
       "      <td>145.0</td>\n",
       "      <td>45.0</td>\n",
       "      <td>87.0</td>\n",
       "      <td>17.0</td>\n",
       "      <td>1</td>\n",
       "      <td>0</td>\n",
       "    </tr>\n",
       "  </tbody>\n",
       "</table>\n",
       "<p>159256 rows × 8 columns</p>\n",
       "</div>"
      ],
      "text/plain": [
       "        smoking  hemoglobin  height(cm)  weight(kg)  triglyceride   Gtp  \\\n",
       "0           1.0   16.500000       165.0        60.0         300.0  27.0   \n",
       "1           0.0   16.200001       165.0        65.0          55.0  37.0   \n",
       "2           1.0   17.400000       170.0        75.0         197.0  53.0   \n",
       "3           0.0   15.900000       180.0        95.0         203.0  30.0   \n",
       "4           1.0   15.400000       165.0        60.0          87.0  17.0   \n",
       "...         ...         ...         ...         ...           ...   ...   \n",
       "159251      0.0   14.500000       155.0        45.0          47.0  13.0   \n",
       "159252      0.0   14.500000       155.0        75.0         202.0  18.0   \n",
       "159253      0.0   10.900000       160.0        50.0          45.0  12.0   \n",
       "159254      1.0   14.400000       165.0        75.0         148.0  37.0   \n",
       "159255      0.0   14.000000       145.0        45.0          87.0  17.0   \n",
       "\n",
       "        hypertension_0  hypertension_1  \n",
       "0                    1               0  \n",
       "1                    0               1  \n",
       "2                    1               0  \n",
       "3                    1               0  \n",
       "4                    1               0  \n",
       "...                ...             ...  \n",
       "159251               1               0  \n",
       "159252               1               0  \n",
       "159253               1               0  \n",
       "159254               0               1  \n",
       "159255               1               0  \n",
       "\n",
       "[159256 rows x 8 columns]"
      ]
     },
     "execution_count": 93,
     "metadata": {},
     "output_type": "execute_result"
    }
   ],
   "source": [
    "subset"
   ]
  },
  {
   "cell_type": "code",
   "execution_count": 94,
   "id": "7220fab7",
   "metadata": {},
   "outputs": [
    {
     "data": {
      "text/html": [
       "<div>\n",
       "<style scoped>\n",
       "    .dataframe tbody tr th:only-of-type {\n",
       "        vertical-align: middle;\n",
       "    }\n",
       "\n",
       "    .dataframe tbody tr th {\n",
       "        vertical-align: top;\n",
       "    }\n",
       "\n",
       "    .dataframe thead th {\n",
       "        text-align: right;\n",
       "    }\n",
       "</style>\n",
       "<table border=\"1\" class=\"dataframe\">\n",
       "  <thead>\n",
       "    <tr style=\"text-align: right;\">\n",
       "      <th></th>\n",
       "      <th>smoking</th>\n",
       "      <th>hemoglobin</th>\n",
       "      <th>height(cm)</th>\n",
       "      <th>weight(kg)</th>\n",
       "      <th>triglyceride</th>\n",
       "      <th>Gtp</th>\n",
       "    </tr>\n",
       "  </thead>\n",
       "  <tbody>\n",
       "    <tr>\n",
       "      <th>0</th>\n",
       "      <td>1.0</td>\n",
       "      <td>16.500000</td>\n",
       "      <td>165.0</td>\n",
       "      <td>60.0</td>\n",
       "      <td>300.0</td>\n",
       "      <td>27.0</td>\n",
       "    </tr>\n",
       "    <tr>\n",
       "      <th>1</th>\n",
       "      <td>0.0</td>\n",
       "      <td>16.200001</td>\n",
       "      <td>165.0</td>\n",
       "      <td>65.0</td>\n",
       "      <td>55.0</td>\n",
       "      <td>37.0</td>\n",
       "    </tr>\n",
       "    <tr>\n",
       "      <th>2</th>\n",
       "      <td>1.0</td>\n",
       "      <td>17.400000</td>\n",
       "      <td>170.0</td>\n",
       "      <td>75.0</td>\n",
       "      <td>197.0</td>\n",
       "      <td>53.0</td>\n",
       "    </tr>\n",
       "    <tr>\n",
       "      <th>3</th>\n",
       "      <td>0.0</td>\n",
       "      <td>15.900000</td>\n",
       "      <td>180.0</td>\n",
       "      <td>95.0</td>\n",
       "      <td>203.0</td>\n",
       "      <td>30.0</td>\n",
       "    </tr>\n",
       "    <tr>\n",
       "      <th>4</th>\n",
       "      <td>1.0</td>\n",
       "      <td>15.400000</td>\n",
       "      <td>165.0</td>\n",
       "      <td>60.0</td>\n",
       "      <td>87.0</td>\n",
       "      <td>17.0</td>\n",
       "    </tr>\n",
       "  </tbody>\n",
       "</table>\n",
       "</div>"
      ],
      "text/plain": [
       "   smoking  hemoglobin  height(cm)  weight(kg)  triglyceride   Gtp\n",
       "0      1.0   16.500000       165.0        60.0         300.0  27.0\n",
       "1      0.0   16.200001       165.0        65.0          55.0  37.0\n",
       "2      1.0   17.400000       170.0        75.0         197.0  53.0\n",
       "3      0.0   15.900000       180.0        95.0         203.0  30.0\n",
       "4      1.0   15.400000       165.0        60.0          87.0  17.0"
      ]
     },
     "execution_count": 94,
     "metadata": {},
     "output_type": "execute_result"
    }
   ],
   "source": [
    "df_pca = subset.copy()\n",
    "\n",
    "# pca only for numerical data\n",
    "df_pca = df_pca.drop([\"hypertension_0\", \"hypertension_1\"], axis = 1)\n",
    "df_pca.head()"
   ]
  },
  {
   "cell_type": "code",
   "execution_count": 95,
   "id": "fe0f6236",
   "metadata": {},
   "outputs": [],
   "source": [
    "from sklearn.decomposition import PCA\n",
    "from sklearn.preprocessing import StandardScaler\n"
   ]
  },
  {
   "cell_type": "code",
   "execution_count": 96,
   "id": "8ab2bd53",
   "metadata": {},
   "outputs": [],
   "source": [
    "\n",
    "# Standardize the data\n",
    "scaler = StandardScaler()\n",
    "X_scaled = scaler.fit_transform(df_pca)\n",
    "\n",
    "# Apply PCA\n",
    "pca = PCA()\n",
    "X_pca = pca.fit_transform(X_scaled)\n",
    "\n",
    "# Select number of components\n",
    "cumulative_variance_ratio = np.cumsum(pca.explained_variance_ratio_)\n",
    "n_components = np.argmax(cumulative_variance_ratio >= 0.95) + 1\n",
    "\n",
    "# Project data onto selected components\n",
    "X_projected = X_pca[:, :n_components]\n",
    "\n",
    "# Calculate reconstruction error\n",
    "X_reconstructed = np.dot(X_projected, pca.components_[:n_components]) + pca.mean_\n",
    "reconstruction_error = np.sqrt(np.mean((X_scaled - X_reconstructed)**2, axis=1))\n",
    "\n",
    "# Identify outliers\n",
    "outlier_threshold = np.percentile(reconstruction_error, 95)\n",
    "outliers = df_pca[reconstruction_error > outlier_threshold]"
   ]
  },
  {
   "cell_type": "code",
   "execution_count": 97,
   "id": "ad6576b2",
   "metadata": {},
   "outputs": [
    {
     "data": {
      "text/html": [
       "<div>\n",
       "<style scoped>\n",
       "    .dataframe tbody tr th:only-of-type {\n",
       "        vertical-align: middle;\n",
       "    }\n",
       "\n",
       "    .dataframe tbody tr th {\n",
       "        vertical-align: top;\n",
       "    }\n",
       "\n",
       "    .dataframe thead th {\n",
       "        text-align: right;\n",
       "    }\n",
       "</style>\n",
       "<table border=\"1\" class=\"dataframe\">\n",
       "  <thead>\n",
       "    <tr style=\"text-align: right;\">\n",
       "      <th></th>\n",
       "      <th>smoking</th>\n",
       "      <th>hemoglobin</th>\n",
       "      <th>height(cm)</th>\n",
       "      <th>weight(kg)</th>\n",
       "      <th>triglyceride</th>\n",
       "      <th>Gtp</th>\n",
       "    </tr>\n",
       "  </thead>\n",
       "  <tbody>\n",
       "    <tr>\n",
       "      <th>5</th>\n",
       "      <td>1.0</td>\n",
       "      <td>15.900000</td>\n",
       "      <td>170.0</td>\n",
       "      <td>55.0</td>\n",
       "      <td>343.0</td>\n",
       "      <td>119.0</td>\n",
       "    </tr>\n",
       "    <tr>\n",
       "      <th>35</th>\n",
       "      <td>0.0</td>\n",
       "      <td>13.100000</td>\n",
       "      <td>145.0</td>\n",
       "      <td>65.0</td>\n",
       "      <td>88.0</td>\n",
       "      <td>17.0</td>\n",
       "    </tr>\n",
       "    <tr>\n",
       "      <th>94</th>\n",
       "      <td>1.0</td>\n",
       "      <td>17.100000</td>\n",
       "      <td>170.0</td>\n",
       "      <td>110.0</td>\n",
       "      <td>194.0</td>\n",
       "      <td>28.0</td>\n",
       "    </tr>\n",
       "    <tr>\n",
       "      <th>95</th>\n",
       "      <td>1.0</td>\n",
       "      <td>17.100000</td>\n",
       "      <td>160.0</td>\n",
       "      <td>75.0</td>\n",
       "      <td>193.0</td>\n",
       "      <td>23.0</td>\n",
       "    </tr>\n",
       "    <tr>\n",
       "      <th>129</th>\n",
       "      <td>0.0</td>\n",
       "      <td>12.700000</td>\n",
       "      <td>155.0</td>\n",
       "      <td>75.0</td>\n",
       "      <td>60.0</td>\n",
       "      <td>24.0</td>\n",
       "    </tr>\n",
       "    <tr>\n",
       "      <th>...</th>\n",
       "      <td>...</td>\n",
       "      <td>...</td>\n",
       "      <td>...</td>\n",
       "      <td>...</td>\n",
       "      <td>...</td>\n",
       "      <td>...</td>\n",
       "    </tr>\n",
       "    <tr>\n",
       "      <th>159199</th>\n",
       "      <td>1.0</td>\n",
       "      <td>17.299999</td>\n",
       "      <td>160.0</td>\n",
       "      <td>75.0</td>\n",
       "      <td>121.0</td>\n",
       "      <td>33.0</td>\n",
       "    </tr>\n",
       "    <tr>\n",
       "      <th>159203</th>\n",
       "      <td>0.0</td>\n",
       "      <td>12.200000</td>\n",
       "      <td>140.0</td>\n",
       "      <td>55.0</td>\n",
       "      <td>76.0</td>\n",
       "      <td>12.0</td>\n",
       "    </tr>\n",
       "    <tr>\n",
       "      <th>159219</th>\n",
       "      <td>0.0</td>\n",
       "      <td>14.200000</td>\n",
       "      <td>150.0</td>\n",
       "      <td>70.0</td>\n",
       "      <td>102.0</td>\n",
       "      <td>16.0</td>\n",
       "    </tr>\n",
       "    <tr>\n",
       "      <th>159230</th>\n",
       "      <td>1.0</td>\n",
       "      <td>18.600000</td>\n",
       "      <td>175.0</td>\n",
       "      <td>100.0</td>\n",
       "      <td>180.0</td>\n",
       "      <td>96.0</td>\n",
       "    </tr>\n",
       "    <tr>\n",
       "      <th>159248</th>\n",
       "      <td>0.0</td>\n",
       "      <td>16.200001</td>\n",
       "      <td>170.0</td>\n",
       "      <td>100.0</td>\n",
       "      <td>169.0</td>\n",
       "      <td>35.0</td>\n",
       "    </tr>\n",
       "  </tbody>\n",
       "</table>\n",
       "<p>7963 rows × 6 columns</p>\n",
       "</div>"
      ],
      "text/plain": [
       "        smoking  hemoglobin  height(cm)  weight(kg)  triglyceride    Gtp\n",
       "5           1.0   15.900000       170.0        55.0         343.0  119.0\n",
       "35          0.0   13.100000       145.0        65.0          88.0   17.0\n",
       "94          1.0   17.100000       170.0       110.0         194.0   28.0\n",
       "95          1.0   17.100000       160.0        75.0         193.0   23.0\n",
       "129         0.0   12.700000       155.0        75.0          60.0   24.0\n",
       "...         ...         ...         ...         ...           ...    ...\n",
       "159199      1.0   17.299999       160.0        75.0         121.0   33.0\n",
       "159203      0.0   12.200000       140.0        55.0          76.0   12.0\n",
       "159219      0.0   14.200000       150.0        70.0         102.0   16.0\n",
       "159230      1.0   18.600000       175.0       100.0         180.0   96.0\n",
       "159248      0.0   16.200001       170.0       100.0         169.0   35.0\n",
       "\n",
       "[7963 rows x 6 columns]"
      ]
     },
     "execution_count": 97,
     "metadata": {},
     "output_type": "execute_result"
    }
   ],
   "source": [
    "outliers"
   ]
  },
  {
   "cell_type": "code",
   "execution_count": 98,
   "id": "cc3e83a9",
   "metadata": {},
   "outputs": [
    {
     "name": "stderr",
     "output_type": "stream",
     "text": [
      "/Users/michellehu/anaconda3/lib/python3.11/site-packages/seaborn/_oldcore.py:1498: FutureWarning: is_categorical_dtype is deprecated and will be removed in a future version. Use isinstance(dtype, CategoricalDtype) instead\n",
      "  if pd.api.types.is_categorical_dtype(vector):\n",
      "/Users/michellehu/anaconda3/lib/python3.11/site-packages/seaborn/_oldcore.py:1498: FutureWarning: is_categorical_dtype is deprecated and will be removed in a future version. Use isinstance(dtype, CategoricalDtype) instead\n",
      "  if pd.api.types.is_categorical_dtype(vector):\n",
      "/Users/michellehu/anaconda3/lib/python3.11/site-packages/seaborn/_oldcore.py:1498: FutureWarning: is_categorical_dtype is deprecated and will be removed in a future version. Use isinstance(dtype, CategoricalDtype) instead\n",
      "  if pd.api.types.is_categorical_dtype(vector):\n"
     ]
    },
    {
     "data": {
      "image/png": "[encoded data removed]",
      "text/plain": [
       "<Figure size 1000x600 with 1 Axes>"
      ]
     },
     "metadata": {},
     "output_type": "display_data"
    }
   ],
   "source": [
    "# Melt the DataFrame to long format for boxplot\n",
    "clean_melt = pd.melt(outliers, id_vars='smoking')\n",
    "\n",
    "# Visualize the relationship with boxplot\n",
    "plt.figure(figsize=(10, 6))\n",
    "sns.boxplot(data=clean_melt, x='variable', y='value')\n",
    "plt.title('Boxplot of Top 5 Features vs Target Variable [clean]')\n",
    "plt.xticks(rotation=45, ha='right')\n",
    "plt.show()"
   ]
  },
  {
   "cell_type": "code",
   "execution_count": 99,
   "id": "7f6191f1",
   "metadata": {},
   "outputs": [],
   "source": [
    "cleaned_data = df_pca.drop(outliers.index)"
   ]
  },
  {
   "cell_type": "code",
   "execution_count": 100,
   "id": "387c5dc3",
   "metadata": {},
   "outputs": [
    {
     "data": {
      "text/html": [
       "<div>\n",
       "<style scoped>\n",
       "    .dataframe tbody tr th:only-of-type {\n",
       "        vertical-align: middle;\n",
       "    }\n",
       "\n",
       "    .dataframe tbody tr th {\n",
       "        vertical-align: top;\n",
       "    }\n",
       "\n",
       "    .dataframe thead th {\n",
       "        text-align: right;\n",
       "    }\n",
       "</style>\n",
       "<table border=\"1\" class=\"dataframe\">\n",
       "  <thead>\n",
       "    <tr style=\"text-align: right;\">\n",
       "      <th></th>\n",
       "      <th>smoking</th>\n",
       "      <th>hemoglobin</th>\n",
       "      <th>height(cm)</th>\n",
       "      <th>weight(kg)</th>\n",
       "      <th>triglyceride</th>\n",
       "      <th>Gtp</th>\n",
       "    </tr>\n",
       "  </thead>\n",
       "  <tbody>\n",
       "    <tr>\n",
       "      <th>0</th>\n",
       "      <td>1.0</td>\n",
       "      <td>16.500000</td>\n",
       "      <td>165.0</td>\n",
       "      <td>60.0</td>\n",
       "      <td>300.0</td>\n",
       "      <td>27.0</td>\n",
       "    </tr>\n",
       "    <tr>\n",
       "      <th>1</th>\n",
       "      <td>0.0</td>\n",
       "      <td>16.200001</td>\n",
       "      <td>165.0</td>\n",
       "      <td>65.0</td>\n",
       "      <td>55.0</td>\n",
       "      <td>37.0</td>\n",
       "    </tr>\n",
       "    <tr>\n",
       "      <th>2</th>\n",
       "      <td>1.0</td>\n",
       "      <td>17.400000</td>\n",
       "      <td>170.0</td>\n",
       "      <td>75.0</td>\n",
       "      <td>197.0</td>\n",
       "      <td>53.0</td>\n",
       "    </tr>\n",
       "    <tr>\n",
       "      <th>3</th>\n",
       "      <td>0.0</td>\n",
       "      <td>15.900000</td>\n",
       "      <td>180.0</td>\n",
       "      <td>95.0</td>\n",
       "      <td>203.0</td>\n",
       "      <td>30.0</td>\n",
       "    </tr>\n",
       "    <tr>\n",
       "      <th>4</th>\n",
       "      <td>1.0</td>\n",
       "      <td>15.400000</td>\n",
       "      <td>165.0</td>\n",
       "      <td>60.0</td>\n",
       "      <td>87.0</td>\n",
       "      <td>17.0</td>\n",
       "    </tr>\n",
       "    <tr>\n",
       "      <th>...</th>\n",
       "      <td>...</td>\n",
       "      <td>...</td>\n",
       "      <td>...</td>\n",
       "      <td>...</td>\n",
       "      <td>...</td>\n",
       "      <td>...</td>\n",
       "    </tr>\n",
       "    <tr>\n",
       "      <th>159251</th>\n",
       "      <td>0.0</td>\n",
       "      <td>14.500000</td>\n",
       "      <td>155.0</td>\n",
       "      <td>45.0</td>\n",
       "      <td>47.0</td>\n",
       "      <td>13.0</td>\n",
       "    </tr>\n",
       "    <tr>\n",
       "      <th>159252</th>\n",
       "      <td>0.0</td>\n",
       "      <td>14.500000</td>\n",
       "      <td>155.0</td>\n",
       "      <td>75.0</td>\n",
       "      <td>202.0</td>\n",
       "      <td>18.0</td>\n",
       "    </tr>\n",
       "    <tr>\n",
       "      <th>159253</th>\n",
       "      <td>0.0</td>\n",
       "      <td>10.900000</td>\n",
       "      <td>160.0</td>\n",
       "      <td>50.0</td>\n",
       "      <td>45.0</td>\n",
       "      <td>12.0</td>\n",
       "    </tr>\n",
       "    <tr>\n",
       "      <th>159254</th>\n",
       "      <td>1.0</td>\n",
       "      <td>14.400000</td>\n",
       "      <td>165.0</td>\n",
       "      <td>75.0</td>\n",
       "      <td>148.0</td>\n",
       "      <td>37.0</td>\n",
       "    </tr>\n",
       "    <tr>\n",
       "      <th>159255</th>\n",
       "      <td>0.0</td>\n",
       "      <td>14.000000</td>\n",
       "      <td>145.0</td>\n",
       "      <td>45.0</td>\n",
       "      <td>87.0</td>\n",
       "      <td>17.0</td>\n",
       "    </tr>\n",
       "  </tbody>\n",
       "</table>\n",
       "<p>151293 rows × 6 columns</p>\n",
       "</div>"
      ],
      "text/plain": [
       "        smoking  hemoglobin  height(cm)  weight(kg)  triglyceride   Gtp\n",
       "0           1.0   16.500000       165.0        60.0         300.0  27.0\n",
       "1           0.0   16.200001       165.0        65.0          55.0  37.0\n",
       "2           1.0   17.400000       170.0        75.0         197.0  53.0\n",
       "3           0.0   15.900000       180.0        95.0         203.0  30.0\n",
       "4           1.0   15.400000       165.0        60.0          87.0  17.0\n",
       "...         ...         ...         ...         ...           ...   ...\n",
       "159251      0.0   14.500000       155.0        45.0          47.0  13.0\n",
       "159252      0.0   14.500000       155.0        75.0         202.0  18.0\n",
       "159253      0.0   10.900000       160.0        50.0          45.0  12.0\n",
       "159254      1.0   14.400000       165.0        75.0         148.0  37.0\n",
       "159255      0.0   14.000000       145.0        45.0          87.0  17.0\n",
       "\n",
       "[151293 rows x 6 columns]"
      ]
     },
     "execution_count": 100,
     "metadata": {},
     "output_type": "execute_result"
    }
   ],
   "source": [
    "cleaned_data"
   ]
  },
  {
   "cell_type": "code",
   "execution_count": 101,
   "metadata": {},
   "outputs": [
    {
     "name": "stderr",
     "output_type": "stream",
     "text": [
      "/Users/michellehu/anaconda3/lib/python3.11/site-packages/seaborn/_oldcore.py:1498: FutureWarning: is_categorical_dtype is deprecated and will be removed in a future version. Use isinstance(dtype, CategoricalDtype) instead\n",
      "  if pd.api.types.is_categorical_dtype(vector):\n",
      "/Users/michellehu/anaconda3/lib/python3.11/site-packages/seaborn/_oldcore.py:1498: FutureWarning: is_categorical_dtype is deprecated and will be removed in a future version. Use isinstance(dtype, CategoricalDtype) instead\n",
      "  if pd.api.types.is_categorical_dtype(vector):\n",
      "/Users/michellehu/anaconda3/lib/python3.11/site-packages/seaborn/_oldcore.py:1498: FutureWarning: is_categorical_dtype is deprecated and will be removed in a future version. Use isinstance(dtype, CategoricalDtype) instead\n",
      "  if pd.api.types.is_categorical_dtype(vector):\n"
     ]
    },
    {
     "data": {
      "image/png": "[encoded data removed]",
      "text/plain": [
       "<Figure size 1000x600 with 1 Axes>"
      ]
     },
     "metadata": {},
     "output_type": "display_data"
    }
   ],
   "source": [
    "# Melt the DataFrame to long format for boxplot\n",
    "clean_melt = pd.melt(cleaned_data, id_vars='smoking')\n",
    "\n",
    "# Visualize the relationship with boxplot\n",
    "plt.figure(figsize=(10, 6))\n",
    "sns.boxplot(data=clean_melt, x='variable', y='value')\n",
    "plt.title('Boxplot of Top 5 Features vs Target Variable [clean]')\n",
    "plt.xticks(rotation=45, ha='right')\n",
    "plt.show()"
   ]
  },
  {
   "cell_type": "code",
   "execution_count": 102,
   "id": "fbac7ad6",
   "metadata": {},
   "outputs": [
    {
     "data": {
      "text/plain": [
       "<bound method NDFrame.head of         hypertension_0  hypertension_0\n",
       "0                    1               1\n",
       "1                    0               0\n",
       "2                    1               1\n",
       "3                    1               1\n",
       "4                    1               1\n",
       "...                ...             ...\n",
       "159251               1               1\n",
       "159252               1               1\n",
       "159253               1               1\n",
       "159254               0               0\n",
       "159255               1               1\n",
       "\n",
       "[159256 rows x 2 columns]>"
      ]
     },
     "execution_count": 102,
     "metadata": {},
     "output_type": "execute_result"
    }
   ],
   "source": [
    "hyp = subset[[\"hypertension_0\", \"hypertension_0\"]]\n",
    "hyp.head"
   ]
  },
  {
   "cell_type": "code",
   "execution_count": 103,
   "id": "ae53163a",
   "metadata": {},
   "outputs": [
    {
     "data": {
      "text/html": [
       "<div>\n",
       "<style scoped>\n",
       "    .dataframe tbody tr th:only-of-type {\n",
       "        vertical-align: middle;\n",
       "    }\n",
       "\n",
       "    .dataframe tbody tr th {\n",
       "        vertical-align: top;\n",
       "    }\n",
       "\n",
       "    .dataframe thead th {\n",
       "        text-align: right;\n",
       "    }\n",
       "</style>\n",
       "<table border=\"1\" class=\"dataframe\">\n",
       "  <thead>\n",
       "    <tr style=\"text-align: right;\">\n",
       "      <th></th>\n",
       "      <th>smoking</th>\n",
       "      <th>hemoglobin</th>\n",
       "      <th>height(cm)</th>\n",
       "      <th>weight(kg)</th>\n",
       "      <th>triglyceride</th>\n",
       "      <th>Gtp</th>\n",
       "    </tr>\n",
       "  </thead>\n",
       "  <tbody>\n",
       "    <tr>\n",
       "      <th>0</th>\n",
       "      <td>1.0</td>\n",
       "      <td>16.500000</td>\n",
       "      <td>165.0</td>\n",
       "      <td>60.0</td>\n",
       "      <td>300.0</td>\n",
       "      <td>27.0</td>\n",
       "    </tr>\n",
       "    <tr>\n",
       "      <th>1</th>\n",
       "      <td>0.0</td>\n",
       "      <td>16.200001</td>\n",
       "      <td>165.0</td>\n",
       "      <td>65.0</td>\n",
       "      <td>55.0</td>\n",
       "      <td>37.0</td>\n",
       "    </tr>\n",
       "    <tr>\n",
       "      <th>2</th>\n",
       "      <td>1.0</td>\n",
       "      <td>17.400000</td>\n",
       "      <td>170.0</td>\n",
       "      <td>75.0</td>\n",
       "      <td>197.0</td>\n",
       "      <td>53.0</td>\n",
       "    </tr>\n",
       "    <tr>\n",
       "      <th>3</th>\n",
       "      <td>0.0</td>\n",
       "      <td>15.900000</td>\n",
       "      <td>180.0</td>\n",
       "      <td>95.0</td>\n",
       "      <td>203.0</td>\n",
       "      <td>30.0</td>\n",
       "    </tr>\n",
       "    <tr>\n",
       "      <th>4</th>\n",
       "      <td>1.0</td>\n",
       "      <td>15.400000</td>\n",
       "      <td>165.0</td>\n",
       "      <td>60.0</td>\n",
       "      <td>87.0</td>\n",
       "      <td>17.0</td>\n",
       "    </tr>\n",
       "  </tbody>\n",
       "</table>\n",
       "</div>"
      ],
      "text/plain": [
       "   smoking  hemoglobin  height(cm)  weight(kg)  triglyceride   Gtp\n",
       "0      1.0   16.500000       165.0        60.0         300.0  27.0\n",
       "1      0.0   16.200001       165.0        65.0          55.0  37.0\n",
       "2      1.0   17.400000       170.0        75.0         197.0  53.0\n",
       "3      0.0   15.900000       180.0        95.0         203.0  30.0\n",
       "4      1.0   15.400000       165.0        60.0          87.0  17.0"
      ]
     },
     "execution_count": 103,
     "metadata": {},
     "output_type": "execute_result"
    }
   ],
   "source": [
    "cleaned_data.head()"
   ]
  },
  {
   "cell_type": "code",
   "execution_count": 104,
   "id": "7f0d3ab8",
   "metadata": {},
   "outputs": [
    {
     "data": {
      "text/html": [
       "<div>\n",
       "<style scoped>\n",
       "    .dataframe tbody tr th:only-of-type {\n",
       "        vertical-align: middle;\n",
       "    }\n",
       "\n",
       "    .dataframe tbody tr th {\n",
       "        vertical-align: top;\n",
       "    }\n",
       "\n",
       "    .dataframe thead th {\n",
       "        text-align: right;\n",
       "    }\n",
       "</style>\n",
       "<table border=\"1\" class=\"dataframe\">\n",
       "  <thead>\n",
       "    <tr style=\"text-align: right;\">\n",
       "      <th></th>\n",
       "      <th>smoking</th>\n",
       "      <th>hemoglobin</th>\n",
       "      <th>height(cm)</th>\n",
       "      <th>weight(kg)</th>\n",
       "      <th>triglyceride</th>\n",
       "      <th>Gtp</th>\n",
       "      <th>hypertension_0</th>\n",
       "      <th>hypertension_0</th>\n",
       "    </tr>\n",
       "  </thead>\n",
       "  <tbody>\n",
       "    <tr>\n",
       "      <th>0</th>\n",
       "      <td>1.0</td>\n",
       "      <td>16.500000</td>\n",
       "      <td>165.0</td>\n",
       "      <td>60.0</td>\n",
       "      <td>300.0</td>\n",
       "      <td>27.0</td>\n",
       "      <td>1</td>\n",
       "      <td>1</td>\n",
       "    </tr>\n",
       "    <tr>\n",
       "      <th>1</th>\n",
       "      <td>0.0</td>\n",
       "      <td>16.200001</td>\n",
       "      <td>165.0</td>\n",
       "      <td>65.0</td>\n",
       "      <td>55.0</td>\n",
       "      <td>37.0</td>\n",
       "      <td>0</td>\n",
       "      <td>0</td>\n",
       "    </tr>\n",
       "    <tr>\n",
       "      <th>2</th>\n",
       "      <td>1.0</td>\n",
       "      <td>17.400000</td>\n",
       "      <td>170.0</td>\n",
       "      <td>75.0</td>\n",
       "      <td>197.0</td>\n",
       "      <td>53.0</td>\n",
       "      <td>1</td>\n",
       "      <td>1</td>\n",
       "    </tr>\n",
       "    <tr>\n",
       "      <th>3</th>\n",
       "      <td>0.0</td>\n",
       "      <td>15.900000</td>\n",
       "      <td>180.0</td>\n",
       "      <td>95.0</td>\n",
       "      <td>203.0</td>\n",
       "      <td>30.0</td>\n",
       "      <td>1</td>\n",
       "      <td>1</td>\n",
       "    </tr>\n",
       "    <tr>\n",
       "      <th>4</th>\n",
       "      <td>1.0</td>\n",
       "      <td>15.400000</td>\n",
       "      <td>165.0</td>\n",
       "      <td>60.0</td>\n",
       "      <td>87.0</td>\n",
       "      <td>17.0</td>\n",
       "      <td>1</td>\n",
       "      <td>1</td>\n",
       "    </tr>\n",
       "    <tr>\n",
       "      <th>...</th>\n",
       "      <td>...</td>\n",
       "      <td>...</td>\n",
       "      <td>...</td>\n",
       "      <td>...</td>\n",
       "      <td>...</td>\n",
       "      <td>...</td>\n",
       "      <td>...</td>\n",
       "      <td>...</td>\n",
       "    </tr>\n",
       "    <tr>\n",
       "      <th>159251</th>\n",
       "      <td>0.0</td>\n",
       "      <td>14.500000</td>\n",
       "      <td>155.0</td>\n",
       "      <td>45.0</td>\n",
       "      <td>47.0</td>\n",
       "      <td>13.0</td>\n",
       "      <td>1</td>\n",
       "      <td>1</td>\n",
       "    </tr>\n",
       "    <tr>\n",
       "      <th>159252</th>\n",
       "      <td>0.0</td>\n",
       "      <td>14.500000</td>\n",
       "      <td>155.0</td>\n",
       "      <td>75.0</td>\n",
       "      <td>202.0</td>\n",
       "      <td>18.0</td>\n",
       "      <td>1</td>\n",
       "      <td>1</td>\n",
       "    </tr>\n",
       "    <tr>\n",
       "      <th>159253</th>\n",
       "      <td>0.0</td>\n",
       "      <td>10.900000</td>\n",
       "      <td>160.0</td>\n",
       "      <td>50.0</td>\n",
       "      <td>45.0</td>\n",
       "      <td>12.0</td>\n",
       "      <td>1</td>\n",
       "      <td>1</td>\n",
       "    </tr>\n",
       "    <tr>\n",
       "      <th>159254</th>\n",
       "      <td>1.0</td>\n",
       "      <td>14.400000</td>\n",
       "      <td>165.0</td>\n",
       "      <td>75.0</td>\n",
       "      <td>148.0</td>\n",
       "      <td>37.0</td>\n",
       "      <td>0</td>\n",
       "      <td>0</td>\n",
       "    </tr>\n",
       "    <tr>\n",
       "      <th>159255</th>\n",
       "      <td>0.0</td>\n",
       "      <td>14.000000</td>\n",
       "      <td>145.0</td>\n",
       "      <td>45.0</td>\n",
       "      <td>87.0</td>\n",
       "      <td>17.0</td>\n",
       "      <td>1</td>\n",
       "      <td>1</td>\n",
       "    </tr>\n",
       "  </tbody>\n",
       "</table>\n",
       "<p>151293 rows × 8 columns</p>\n",
       "</div>"
      ],
      "text/plain": [
       "        smoking  hemoglobin  height(cm)  weight(kg)  triglyceride   Gtp  \\\n",
       "0           1.0   16.500000       165.0        60.0         300.0  27.0   \n",
       "1           0.0   16.200001       165.0        65.0          55.0  37.0   \n",
       "2           1.0   17.400000       170.0        75.0         197.0  53.0   \n",
       "3           0.0   15.900000       180.0        95.0         203.0  30.0   \n",
       "4           1.0   15.400000       165.0        60.0          87.0  17.0   \n",
       "...         ...         ...         ...         ...           ...   ...   \n",
       "159251      0.0   14.500000       155.0        45.0          47.0  13.0   \n",
       "159252      0.0   14.500000       155.0        75.0         202.0  18.0   \n",
       "159253      0.0   10.900000       160.0        50.0          45.0  12.0   \n",
       "159254      1.0   14.400000       165.0        75.0         148.0  37.0   \n",
       "159255      0.0   14.000000       145.0        45.0          87.0  17.0   \n",
       "\n",
       "        hypertension_0  hypertension_0  \n",
       "0                    1               1  \n",
       "1                    0               0  \n",
       "2                    1               1  \n",
       "3                    1               1  \n",
       "4                    1               1  \n",
       "...                ...             ...  \n",
       "159251               1               1  \n",
       "159252               1               1  \n",
       "159253               1               1  \n",
       "159254               0               0  \n",
       "159255               1               1  \n",
       "\n",
       "[151293 rows x 8 columns]"
      ]
     },
     "execution_count": 104,
     "metadata": {},
     "output_type": "execute_result"
    }
   ],
   "source": [
    "merged_df = pd.merge(cleaned_data, hyp, left_index=True, right_index=True)\n",
    "merged_df"
   ]
  },
  {
   "cell_type": "code",
   "execution_count": 105,
   "id": "287d504b",
   "metadata": {},
   "outputs": [],
   "source": [
    "df_train = merged_df"
   ]
  },
  {
   "cell_type": "code",
   "execution_count": 106,
   "id": "b1609ea3",
   "metadata": {},
   "outputs": [
    {
     "data": {
      "text/plain": [
       "<Axes: >"
      ]
     },
     "execution_count": 106,
     "metadata": {},
     "output_type": "execute_result"
    },
    {
     "data": {
      "image/png": "[encoded data removed]",
      "text/plain": [
       "<Figure size 2500x1000 with 2 Axes>"
      ]
     },
     "metadata": {},
     "output_type": "display_data"
    }
   ],
   "source": [
    "msno.matrix(df_train)"
   ]
  },
  {
   "cell_type": "code",
   "execution_count": null,
   "id": "943c1dc8",
   "metadata": {},
   "outputs": [],
   "source": []
  },
  {
   "cell_type": "code",
   "execution_count": 107,
   "id": "b66cd6bd",
   "metadata": {},
   "outputs": [
    {
     "name": "stdout",
     "output_type": "stream",
     "text": [
      "<class 'pandas.core.frame.DataFrame'>\n",
      "Index: 151293 entries, 0 to 159255\n",
      "Data columns (total 8 columns):\n",
      " #   Column          Non-Null Count   Dtype  \n",
      "---  ------          --------------   -----  \n",
      " 0   smoking         151293 non-null  float32\n",
      " 1   hemoglobin      151293 non-null  float32\n",
      " 2   height(cm)      151293 non-null  float32\n",
      " 3   weight(kg)      151293 non-null  float32\n",
      " 4   triglyceride    151293 non-null  float32\n",
      " 5   Gtp             151293 non-null  float32\n",
      " 6   hypertension_0  151293 non-null  float32\n",
      " 7   hypertension_0  151293 non-null  float32\n",
      "dtypes: float32(8)\n",
      "memory usage: 5.8 MB\n"
     ]
    }
   ],
   "source": [
    "df_train = df_train.astype(np.float32)\n",
    "df_train.info()"
   ]
  },
  {
   "cell_type": "markdown",
   "id": "fe1cb287",
   "metadata": {},
   "source": [
    "# 2. Train/validation split"
   ]
  },
  {
   "cell_type": "code",
   "execution_count": 108,
   "id": "ee3a4055",
   "metadata": {},
   "outputs": [],
   "source": [
    "array_X = df_train.drop(columns='smoking').to_numpy()\n",
    "array_y = df_train[\"smoking\"].to_numpy()\n",
    "array_y = np.reshape(array_y, (-1, 1))\n",
    "\n",
    "train_X, valid_X, train_y, valid_y = train_test_split(array_X, array_y, test_size=0.2)"
   ]
  },
  {
   "cell_type": "markdown",
   "id": "49432520",
   "metadata": {},
   "source": [
    "## 2.1 Scaling\n"
   ]
  },
  {
   "cell_type": "code",
   "execution_count": 109,
   "id": "3eb109c9",
   "metadata": {},
   "outputs": [],
   "source": [
    "# Step 1: Instantiate the Scaler (using MinMaxScaler with range (0, 1))\n",
    "scaler_X = MinMaxScaler(feature_range=(0, 1))\n",
    "\n",
    "# Step 2: Fit and Transform Training Data\n",
    "train_X = scaler_X.fit_transform(train_X)\n",
    "\n",
    "# Step 3: Transform Validation Data\n",
    "valid_X = scaler_X.transform(valid_X)"
   ]
  },
  {
   "cell_type": "code",
   "execution_count": null,
   "id": "03d23d3c",
   "metadata": {},
   "outputs": [],
   "source": []
  },
  {
   "cell_type": "code",
   "execution_count": null,
   "id": "d9db9109",
   "metadata": {},
   "outputs": [],
   "source": []
  },
  {
   "cell_type": "code",
   "execution_count": 110,
   "id": "4dc0d6ac",
   "metadata": {},
   "outputs": [],
   "source": [
    "# tx = pd.DataFrame(train_X)\n",
    "# ty = pd.DataFrame(train_y)\n",
    "# vx = pd.DataFrame(valid_X)\n",
    "# vy = pd.DataFrame(valid_y)"
   ]
  },
  {
   "cell_type": "code",
   "execution_count": 111,
   "id": "0e51a589",
   "metadata": {},
   "outputs": [],
   "source": [
    "# csv_file_path1 = \"trainX.csv\"\n",
    "# csv_file_path2 = \"trainy.csv\"\n",
    "# csv_file_path3 = \"validX.csv\"\n",
    "# csv_file_path4 = \"validy.csv\"\n",
    "\n",
    "# tx.to_csv(csv_file_path1, index=False)\n",
    "# ty.to_csv(csv_file_path2, index=False)\n",
    "# vx.to_csv(csv_file_path3, index=False)\n",
    "# vy.to_csv(csv_file_path4, index=False)\n"
   ]
  },
  {
   "cell_type": "code",
   "execution_count": null,
   "id": "291536b2",
   "metadata": {},
   "outputs": [],
   "source": []
  },
  {
   "cell_type": "code",
   "execution_count": null,
   "id": "865738d3",
   "metadata": {},
   "outputs": [],
   "source": []
  },
  {
   "cell_type": "markdown",
   "id": "8f3e7437",
   "metadata": {},
   "source": [
    "## 2.2 Tensors\n"
   ]
  },
  {
   "cell_type": "code",
   "execution_count": 112,
   "id": "663cb2e6",
   "metadata": {},
   "outputs": [
    {
     "data": {
      "text/plain": [
       "tensor([[0.6908, 0.5455, 0.5556,  ..., 0.0466, 1.0000, 1.0000],\n",
       "        [0.5263, 0.2727, 0.2222,  ..., 0.0211, 1.0000, 1.0000],\n",
       "        [0.5987, 0.7273, 0.5000,  ..., 0.0496, 1.0000, 1.0000],\n",
       "        ...,\n",
       "        [0.5197, 0.2727, 0.3333,  ..., 0.0602, 1.0000, 1.0000],\n",
       "        [0.5066, 0.4545, 0.3333,  ..., 0.0195, 1.0000, 1.0000],\n",
       "        [0.5329, 0.3636, 0.2778,  ..., 0.0286, 0.0000, 0.0000]])"
      ]
     },
     "execution_count": 112,
     "metadata": {},
     "output_type": "execute_result"
    }
   ],
   "source": [
    "tX = torch.tensor(train_X)\n",
    "tX  "
   ]
  },
  {
   "cell_type": "code",
   "execution_count": 113,
   "id": "52adfb28",
   "metadata": {},
   "outputs": [
    {
     "data": {
      "text/plain": [
       "tensor([4.3408, 3.1084, 4.0194,  ..., 3.5161, 3.4862, 1.3420])"
      ]
     },
     "execution_count": 113,
     "metadata": {},
     "output_type": "execute_result"
    }
   ],
   "source": [
    "tX.sum(axis=1)"
   ]
  },
  {
   "cell_type": "code",
   "execution_count": 114,
   "id": "528607be",
   "metadata": {},
   "outputs": [],
   "source": [
    "train_ds = TensorDataset(torch.tensor(train_X), torch.tensor(train_y))\n",
    "valid_ds = TensorDataset(torch.tensor(valid_X), torch.tensor(valid_y))"
   ]
  },
  {
   "cell_type": "markdown",
   "id": "8ccc4018",
   "metadata": {},
   "source": [
    "## 2.3 Data loader"
   ]
  },
  {
   "cell_type": "code",
   "execution_count": 115,
   "id": "3d7d34b0",
   "metadata": {},
   "outputs": [],
   "source": [
    "train_dl = DataLoader(train_ds, batch_size=32)\n",
    "valid_dl = DataLoader(valid_ds, batch_size=len(valid_ds))"
   ]
  },
  {
   "cell_type": "markdown",
   "id": "cf26f72b",
   "metadata": {},
   "source": [
    "# 3. Model\n"
   ]
  },
  {
   "cell_type": "code",
   "execution_count": 116,
   "id": "de2d7084",
   "metadata": {},
   "outputs": [
    {
     "data": {
      "text/plain": [
       "array([[1.],\n",
       "       [0.],\n",
       "       [0.],\n",
       "       ...,\n",
       "       [0.],\n",
       "       [0.],\n",
       "       [0.]], dtype=float32)"
      ]
     },
     "execution_count": 116,
     "metadata": {},
     "output_type": "execute_result"
    }
   ],
   "source": [
    "train_y"
   ]
  },
  {
   "cell_type": "code",
   "execution_count": 117,
   "id": "6ee558f3",
   "metadata": {},
   "outputs": [
    {
     "data": {
      "text/plain": [
       "(121034, 7)"
      ]
     },
     "execution_count": 117,
     "metadata": {},
     "output_type": "execute_result"
    }
   ],
   "source": [
    "train_X.shape"
   ]
  },
  {
   "cell_type": "code",
   "execution_count": null,
   "id": "3b9c3729",
   "metadata": {},
   "outputs": [],
   "source": []
  },
  {
   "cell_type": "code",
   "execution_count": 118,
   "id": "624b3d12",
   "metadata": {},
   "outputs": [],
   "source": [
    "class Smoke(nn.Module):\n",
    "    def __init__(self, input_size, hidden_size, output_size):\n",
    "        super(Smoke, self).__init__()\n",
    "        self.hidden = nn.Linear(input_size, hidden_size)\n",
    "        self.relu = nn.ReLU()\n",
    "        self.output = nn.Linear(hidden_size, output_size)\n",
    "\n",
    "    def forward(self, x):\n",
    "        x = self.relu(self.hidden(x))\n",
    "        x = torch.sigmoid(self.output(x))  # Apply sigmoid to final output\n",
    "        return x\n"
   ]
  },
  {
   "cell_type": "markdown",
   "id": "a7cb3eee",
   "metadata": {},
   "source": [
    "# 4. Trainer\n"
   ]
  },
  {
   "cell_type": "code",
   "execution_count": 119,
   "id": "8a8ebdbf",
   "metadata": {},
   "outputs": [],
   "source": [
    "class Trainer:\n",
    "    def __init__(self, model, lossfunction, train_dl, valid_dl, lr, wd, optimizer=AdamW, metric=None, device=None):\n",
    "        self.device = device           # Onthoudt het device\n",
    "        self.model = model.to(device)  # Zet het model op de GPU (of op een ander device)\n",
    "        self.train_dl = train_dl\n",
    "        self.valid_dl = valid_dl\n",
    "        self.lossfunction = lossfunction\n",
    "        self.optimizer = optimizer(model.parameters(), lr = lr, weight_decay = wd) # learning rate en weight decay meegeven\n",
    "        self.metric = metric  \n",
    "        \n",
    "        self.epochid = 0\n",
    "        \n",
    "    def train_once(self):\n",
    "        \"\"\"\n",
    "            Enkele epoch trainen\n",
    "        \"\"\"\n",
    "        epochloss = 0\n",
    "        epochn = 0\n",
    "        torch.set_grad_enabled(True)            # Vereist voor het trainen om zo de gradients te berekenen\n",
    "        \n",
    "        for X, y in self.train_dl:\n",
    "            X, y = X.to(self.device), y.to(self.device)  # Zet de data over op het device\n",
    "            self.optimizer.zero_grad()          # De gradients worden op nul gezet\n",
    "            y_pred = self.model(X)              # Een forward pass wordt uitgevoerd\n",
    "            l = self.lossfunction(y_pred, y)    # Bereken de loss\n",
    "            l.backward()                        # Bereken en verzamel de gradients\n",
    "            self.optimizer.step()               # Update de parameters met behulp van de verzamelde gradiënten en de learning rate \n",
    "            \n",
    "            try:\n",
    "                self.scheduler.step()\n",
    "            except: \n",
    "                pass\n",
    "            \n",
    "            epochloss += l.item() * len(X)      # Bereken de totale loss\n",
    "            epochn += len(X)                    # Bereken het aantal getrainde items in de epoch  \n",
    "\n",
    "            try:\n",
    "                y_pred = self.model.post_forward(y_pred)\n",
    "            except:\n",
    "                pass         \n",
    "        \n",
    "            try:\n",
    "                all_y = np.concatenate([all_y, y.cpu()])  # Voeg de y's toe aan de huidige batch\n",
    "            except:\n",
    "                all_y = y.cpu()                           # Als er nog geen all_y is, gebruik dan de eerste y\n",
    "            try:\n",
    "                all_pred_y = np.concatenate([all_pred_y, y_pred.detach().cpu().numpy()]) \n",
    "            except:\n",
    "                all_pred_y = y_pred.detach().cpu().numpy()   \n",
    "        m = self.metric(all_y, all_pred_y) #squared = false weergeeft de RMSE \n",
    "        return [epochloss / epochn, m]               # Return het gewogen gemiddelde over de training\n",
    "\n",
    "    def validate_once(self):\n",
    "        \"\"\"\n",
    "            Het valideren op de validatie set \n",
    "        \"\"\"\n",
    "        epochloss = 0\n",
    "        epochn = 0\n",
    "        with torch.set_grad_enabled(False):\n",
    "            for X, y in self.valid_dl:\n",
    "                X, y = X.to(self.device), y.to(self.device)  \n",
    "                y_pred = model(X)                \n",
    "                l = self.lossfunction(y_pred, y)  \n",
    "                epochloss += l.item() * len(X)    \n",
    "                epochn += len(X)                  \n",
    "                \n",
    "                try:\n",
    "                    y_pred = self.model.post_forward(y_pred)\n",
    "                except:\n",
    "                    pass \n",
    "                \n",
    "                try:\n",
    "                    all_y = np.concatenate([all_y, y.cpu()])   \n",
    "                except:\n",
    "                    all_y = y.cpu()                           \n",
    "                try:\n",
    "                    all_pred_y = np.concatenate([all_pred_y, y_pred.cpu()]) \n",
    "                except:\n",
    "                    all_pred_y = y_pred.cpu()    \n",
    "        m = self.metric(all_y, all_pred_y)     \n",
    "        return [epochloss / epochn, m];                 \n",
    "    \n",
    "    def train(self, epochs, report_frequency=1):\n",
    "        \"\"\"\n",
    "            Daadwerkelijk trainen en de getrainde waarde per epoch printen\n",
    "        \"\"\"\n",
    "        self.train_losses = []\n",
    "        self.valid_losses = []\n",
    "        self.train_m = []\n",
    "        self.valid_m = []\n",
    "      \n",
    "        for e in progress_bar(range(epochs)):\n",
    "            self.epochid +=1\n",
    "            train_loss, train_m = self.train_once()\n",
    "            valid_loss, valid_m = self.validate_once()\n",
    "            self.train_losses.append(train_loss)\n",
    "            self.valid_losses.append(valid_loss)\n",
    "            self.train_m.append(train_m)\n",
    "            self.valid_m.append(valid_m)\n",
    "\n",
    "            if (((e+1)%report_frequency) ==0) or e == (epochs-1):\n",
    "                print(f'{self.epochid} train loss: {train_loss:.4f} valid loss: {valid_loss:.4f} {self.metric.__name__} {valid_m:.4f}')\n",
    "\n",
    "    def learning_curve(self):\n",
    "        \"\"\"\n",
    "            Het visualiseren van de learning curve\n",
    "        \"\"\"\n",
    "        plt.figure()\n",
    "        plt.plot(range(len(t.train_losses)), t.train_losses, label='train', color='#0077b3')\n",
    "        plt.plot(range(len(t.valid_losses)), t.valid_losses, label='valid', color='#cc4100')\n",
    "        plt.legend()\n",
    "        plt.ylabel('loss_bce')\n",
    "        plt.xlabel('epochs');\n",
    "        \n",
    "    def validation_curve(self):\n",
    "        \"\"\"\n",
    "            Het visualiseren van de validatie curve\n",
    "        \"\"\"\n",
    "        plt.figure()\n",
    "        plt.plot(range(len(t.train_m)), t.train_m, label='train', color='#0077b3')\n",
    "        plt.plot(range(len(t.valid_m)), t.valid_m, label='valid', color='#cc4100')\n",
    "        plt.legend()\n",
    "        plt.ylabel(self.metric.__name__)      \n",
    "        plt.xlabel('epoch');     \n",
    "    \n",
    "    def plot_curves(self):\n",
    "        fig, (ax1, ax2) = plt.subplots(1,2, figsize=(15,6))\n",
    "        ax1.plot(range(len(t.train_losses)), t.train_losses, label='train', color='#0077b3')\n",
    "        ax1.plot(range(len(t.valid_losses)), t.valid_losses, label='valid', color='#cc4100')\n",
    "        ax1.legend()\n",
    "        ax1.set_ylabel('loss_bce')\n",
    "        ax1.set_xlabel('epochs')\n",
    "        ax1.set_title('Learning curve');\n",
    "        \n",
    "        ax2.plot(range(len(t.train_m)), t.train_m, label='train', color='#0077b3')\n",
    "        ax2.plot(range(len(t.valid_m)), t.valid_m, label='valid', color='#cc4100')\n",
    "        ax2.legend()\n",
    "        ax2.set_ylabel(self.metric.__name__)      \n",
    "        ax2.set_xlabel('epoch')\n",
    "        ax2.set_title('Validation curve');"
   ]
  },
  {
   "cell_type": "markdown",
   "id": "5efe5ff3",
   "metadata": {},
   "source": [
    "# 5. Train and validate\n"
   ]
  },
  {
   "cell_type": "code",
   "execution_count": 120,
   "id": "ef1fe029",
   "metadata": {},
   "outputs": [],
   "source": [
    "from sklearn.model_selection import GridSearchCV \n",
    "from skorch import NeuralNetClassifier\n",
    "import torch.optim as optim"
   ]
  },
  {
   "cell_type": "code",
   "execution_count": 121,
   "id": "292c1178",
   "metadata": {},
   "outputs": [],
   "source": [
    "model = Smoke(input_size = 7, hidden_size = 15, output_size=1)"
   ]
  },
  {
   "cell_type": "code",
   "execution_count": 122,
   "id": "efd344f7",
   "metadata": {},
   "outputs": [],
   "source": [
    "X, y = next(iter(train_dl))"
   ]
  },
  {
   "cell_type": "code",
   "execution_count": 123,
   "id": "1990cf7c",
   "metadata": {},
   "outputs": [],
   "source": [
    "net = NeuralNetClassifier(\n",
    "    model,\n",
    "    criterion=nn.BCELoss,\n",
    "    max_epochs=250,\n",
    "    optimizer=optim.Adam,\n",
    "    optimizer__lr = 1e-3)"
   ]
  },
  {
   "cell_type": "code",
   "execution_count": 124,
   "id": "28c5a84e",
   "metadata": {},
   "outputs": [],
   "source": [
    "# param_grid = {'optimizer__lr' : [1e-1, 1e-2, 1e-3, 1e-4, 1e-5],\n",
    "#               'module__hidden_size' : list(np.arange(2,20)),\n",
    "#               'module__input_size' : [7],\n",
    "#               'module__output_size' : [1],\n",
    "#               'optimizer__weight_decay' : [0.1, 0.01, 0.001]\n",
    "#               }\n",
    "\n",
    "# grid = GridSearchCV(estimator=net, param_grid=param_grid, scoring=\"roc_auc_ovo_weighted\", n_jobs=-1, cv=3)\n",
    " \n",
    "# grid_result = grid.fit(X, y)"
   ]
  },
  {
   "cell_type": "code",
   "execution_count": 125,
   "id": "34b9fa2b",
   "metadata": {},
   "outputs": [],
   "source": [
    "# print(\"best score: {:.3f}, best params: {}\".format(grid.best_score_, grid.best_params_))"
   ]
  },
  {
   "cell_type": "code",
   "execution_count": 126,
   "id": "689e64e4",
   "metadata": {},
   "outputs": [
    {
     "data": {
      "text/plain": [
       "\"best score: 0.778, best params: {'module__hidden_size': 16, 'module__input_size': 7, 'module__output_size': 1, 'optimizer__lr': 1e-05, 'optimizer__weight_decay': 0.001}\""
      ]
     },
     "execution_count": 126,
     "metadata": {},
     "output_type": "execute_result"
    }
   ],
   "source": [
    "\"best score: 0.778, best params: {'module__hidden_size': 16, 'module__input_size': 7, 'module__output_size': 1, 'optimizer__lr': 1e-05, 'optimizer__weight_decay': 0.001}\"\n"
   ]
  },
  {
   "cell_type": "code",
   "execution_count": 127,
   "id": "1a80c4ef",
   "metadata": {},
   "outputs": [],
   "source": [
    "# print(\" Results from Grid Search \" )\n",
    "# print(\"\\n The best estimator across ALL searched params:\\n\", grid.best_estimator_)\n",
    "# print(\"\\n The best score across ALL searched params:\\n\", grid.best_score_)\n",
    "# print(\"\\n The best parameters across ALL searched params:\\n\", grid.best_params_)"
   ]
  },
  {
   "cell_type": "code",
   "execution_count": 128,
   "id": "62460cd1",
   "metadata": {},
   "outputs": [],
   "source": [
    "#grid.best_params_['optimizer__lr']"
   ]
  },
  {
   "cell_type": "code",
   "execution_count": 129,
   "id": "4477f641",
   "metadata": {},
   "outputs": [],
   "source": [
    "# model = Smoke(input_size = 7, hidden_size = grid.best_params_['module__hidden_size'], output_size=1)"
   ]
  },
  {
   "cell_type": "code",
   "execution_count": 130,
   "id": "e8d8d210",
   "metadata": {},
   "outputs": [],
   "source": [
    "# t = Trainer(model, nn.BCELoss(), train_dl, valid_dl, lr=grid.best_params_['optimizer__lr'], wd=grid.best_params_['optimizer__weight_decay'], metric=roc_auc_score)"
   ]
  },
  {
   "cell_type": "code",
   "execution_count": 131,
   "id": "9fdb80f4",
   "metadata": {},
   "outputs": [],
   "source": [
    "model = Smoke(input_size = 7, hidden_size = 16, output_size=1)\n",
    "t = Trainer(model, nn.BCELoss(), train_dl, valid_dl, lr=1e-05, wd=0.001, metric=roc_auc_score)"
   ]
  },
  {
   "cell_type": "code",
   "execution_count": 132,
   "id": "c70703e9",
   "metadata": {},
   "outputs": [
    {
     "data": {
      "text/html": [
       "\n",
       "<style>\n",
       "    /* Turns off some styling */\n",
       "    progress {\n",
       "        /* gets rid of default border in Firefox and Opera. */\n",
       "        border: none;\n",
       "        /* Needs to be in here for Safari polyfill so background images work as expected. */\n",
       "        background-size: auto;\n",
       "    }\n",
       "    progress:not([value]), progress:not([value])::-webkit-progress-bar {\n",
       "        background: repeating-linear-gradient(45deg, #7e7e7e, #7e7e7e 10px, #5c5c5c 10px, #5c5c5c 20px);\n",
       "    }\n",
       "    .progress-bar-interrupted, .progress-bar-interrupted::-webkit-progress-bar {\n",
       "        background: #F44336;\n",
       "    }\n",
       "</style>\n"
      ],
      "text/plain": [
       "<IPython.core.display.HTML object>"
      ]
     },
     "metadata": {},
     "output_type": "display_data"
    },
    {
     "data": {
      "text/html": [
       "\n",
       "    <div>\n",
       "      <progress value='250' class='' max='250' style='width:300px; height:20px; vertical-align: middle;'></progress>\n",
       "      100.00% [250/250 05:03&lt;00:00]\n",
       "    </div>\n",
       "    "
      ],
      "text/plain": [
       "<IPython.core.display.HTML object>"
      ]
     },
     "metadata": {},
     "output_type": "display_data"
    },
    {
     "name": "stdout",
     "output_type": "stream",
     "text": [
      "10 train loss: 0.6339 valid loss: 0.6305 roc_auc_score 0.7615\n",
      "20 train loss: 0.5796 valid loss: 0.5764 roc_auc_score 0.7942\n",
      "30 train loss: 0.5474 valid loss: 0.5449 roc_auc_score 0.8050\n",
      "40 train loss: 0.5301 valid loss: 0.5278 roc_auc_score 0.8122\n",
      "50 train loss: 0.5189 valid loss: 0.5166 roc_auc_score 0.8177\n",
      "60 train loss: 0.5106 valid loss: 0.5081 roc_auc_score 0.8224\n",
      "70 train loss: 0.5041 valid loss: 0.5015 roc_auc_score 0.8264\n",
      "80 train loss: 0.4990 valid loss: 0.4963 roc_auc_score 0.8296\n",
      "90 train loss: 0.4948 valid loss: 0.4920 roc_auc_score 0.8323\n",
      "100 train loss: 0.4915 valid loss: 0.4886 roc_auc_score 0.8345\n",
      "110 train loss: 0.4888 valid loss: 0.4857 roc_auc_score 0.8365\n",
      "120 train loss: 0.4866 valid loss: 0.4834 roc_auc_score 0.8380\n",
      "130 train loss: 0.4849 valid loss: 0.4816 roc_auc_score 0.8393\n",
      "140 train loss: 0.4834 valid loss: 0.4800 roc_auc_score 0.8403\n",
      "150 train loss: 0.4823 valid loss: 0.4788 roc_auc_score 0.8411\n",
      "160 train loss: 0.4813 valid loss: 0.4778 roc_auc_score 0.8418\n",
      "170 train loss: 0.4806 valid loss: 0.4770 roc_auc_score 0.8423\n",
      "180 train loss: 0.4799 valid loss: 0.4763 roc_auc_score 0.8427\n",
      "190 train loss: 0.4794 valid loss: 0.4757 roc_auc_score 0.8431\n",
      "200 train loss: 0.4790 valid loss: 0.4752 roc_auc_score 0.8433\n",
      "210 train loss: 0.4787 valid loss: 0.4748 roc_auc_score 0.8436\n",
      "220 train loss: 0.4784 valid loss: 0.4745 roc_auc_score 0.8438\n",
      "230 train loss: 0.4781 valid loss: 0.4742 roc_auc_score 0.8439\n",
      "240 train loss: 0.4779 valid loss: 0.4739 roc_auc_score 0.8440\n",
      "250 train loss: 0.4777 valid loss: 0.4737 roc_auc_score 0.8442\n",
      "CPU times: user 6min 31s, sys: 3min 33s, total: 10min 5s\n",
      "Wall time: 5min 3s\n"
     ]
    }
   ],
   "source": [
    "%%time\n",
    "t.train(epochs=250, report_frequency=10)"
   ]
  },
  {
   "cell_type": "code",
   "execution_count": 133,
   "id": "6a8c9be0",
   "metadata": {},
   "outputs": [
    {
     "data": {
      "image/png": "[encoded data removed]",
      "text/plain": [
       "<Figure size 1500x600 with 2 Axes>"
      ]
     },
     "metadata": {},
     "output_type": "display_data"
    }
   ],
   "source": [
    "t.plot_curves()"
   ]
  },
  {
   "cell_type": "markdown",
   "id": "3b0a132f",
   "metadata": {},
   "source": [
    "# 6. Predict"
   ]
  },
  {
   "cell_type": "code",
   "execution_count": 134,
   "id": "8c948c7f",
   "metadata": {},
   "outputs": [
    {
     "data": {
      "text/plain": [
       "Smoke(\n",
       "  (hidden): Linear(in_features=7, out_features=16, bias=True)\n",
       "  (relu): ReLU()\n",
       "  (output): Linear(in_features=16, out_features=1, bias=True)\n",
       ")"
      ]
     },
     "execution_count": 134,
     "metadata": {},
     "output_type": "execute_result"
    }
   ],
   "source": [
    "model.eval()"
   ]
  },
  {
   "cell_type": "code",
   "execution_count": 149,
   "id": "7b78bfb8",
   "metadata": {},
   "outputs": [],
   "source": [
    "test_loader = DataLoader(test, batch_size=32, shuffle=False)"
   ]
  },
  {
   "cell_type": "code",
   "execution_count": null,
   "id": "b22f373e",
   "metadata": {},
   "outputs": [],
   "source": []
  },
  {
   "cell_type": "code",
   "execution_count": 150,
   "id": "479508e2",
   "metadata": {},
   "outputs": [
    {
     "ename": "KeyError",
     "evalue": "0",
     "output_type": "error",
     "traceback": [
      "\u001b[0;31m---------------------------------------------------------------------------\u001b[0m",
      "\u001b[0;31mKeyError\u001b[0m                                  Traceback (most recent call last)",
      "File \u001b[0;32m~/anaconda3/lib/python3.11/site-packages/pandas/core/indexes/base.py:3790\u001b[0m, in \u001b[0;36mIndex.get_loc\u001b[0;34m(self, key)\u001b[0m\n\u001b[1;32m   3789\u001b[0m \u001b[39mtry\u001b[39;00m:\n\u001b[0;32m-> 3790\u001b[0m     \u001b[39mreturn\u001b[39;00m \u001b[39mself\u001b[39m\u001b[39m.\u001b[39m_engine\u001b[39m.\u001b[39mget_loc(casted_key)\n\u001b[1;32m   3791\u001b[0m \u001b[39mexcept\u001b[39;00m \u001b[39mKeyError\u001b[39;00m \u001b[39mas\u001b[39;00m err:\n",
      "File \u001b[0;32mindex.pyx:152\u001b[0m, in \u001b[0;36mpandas._libs.index.IndexEngine.get_loc\u001b[0;34m()\u001b[0m\n",
      "File \u001b[0;32mindex.pyx:181\u001b[0m, in \u001b[0;36mpandas._libs.index.IndexEngine.get_loc\u001b[0;34m()\u001b[0m\n",
      "File \u001b[0;32mpandas/_libs/hashtable_class_helper.pxi:7080\u001b[0m, in \u001b[0;36mpandas._libs.hashtable.PyObjectHashTable.get_item\u001b[0;34m()\u001b[0m\n",
      "File \u001b[0;32mpandas/_libs/hashtable_class_helper.pxi:7088\u001b[0m, in \u001b[0;36mpandas._libs.hashtable.PyObjectHashTable.get_item\u001b[0;34m()\u001b[0m\n",
      "\u001b[0;31mKeyError\u001b[0m: 0",
      "\nThe above exception was the direct cause of the following exception:\n",
      "\u001b[0;31mKeyError\u001b[0m                                  Traceback (most recent call last)",
      "Cell \u001b[0;32mIn[150], line 31\u001b[0m\n\u001b[1;32m     28\u001b[0m     roc_auc \u001b[39m=\u001b[39m roc_auc_score(y_true, y_scores)\n\u001b[1;32m     29\u001b[0m     \u001b[39mprint\u001b[39m(\u001b[39mf\u001b[39m\u001b[39m\"\u001b[39m\u001b[39mROC AUC Score: \u001b[39m\u001b[39m{\u001b[39;00mroc_auc\u001b[39m:\u001b[39;00m\u001b[39m.4f\u001b[39m\u001b[39m}\u001b[39;00m\u001b[39m\"\u001b[39m)\n\u001b[0;32m---> 31\u001b[0m evaluate_model(model, test_loader, criterion\u001b[39m=\u001b[39mtorch\u001b[39m.\u001b[39mnn\u001b[39m.\u001b[39mBCELoss())\n",
      "Cell \u001b[0;32mIn[150], line 13\u001b[0m, in \u001b[0;36mevaluate_model\u001b[0;34m(model, dataloader, criterion)\u001b[0m\n\u001b[1;32m     10\u001b[0m y_scores \u001b[39m=\u001b[39m []\n\u001b[1;32m     12\u001b[0m \u001b[39mwith\u001b[39;00m torch\u001b[39m.\u001b[39mno_grad():\n\u001b[0;32m---> 13\u001b[0m     \u001b[39mfor\u001b[39;00m inputs, labels \u001b[39min\u001b[39;00m dataloader:\n\u001b[1;32m     14\u001b[0m         inputs, labels \u001b[39m=\u001b[39m inputs\u001b[39m.\u001b[39mto(device), labels\u001b[39m.\u001b[39mto(device)\n\u001b[1;32m     16\u001b[0m         \u001b[39m# Forward pass\u001b[39;00m\n",
      "File \u001b[0;32m~/anaconda3/lib/python3.11/site-packages/torch/utils/data/dataloader.py:631\u001b[0m, in \u001b[0;36m_BaseDataLoaderIter.__next__\u001b[0;34m(self)\u001b[0m\n\u001b[1;32m    628\u001b[0m \u001b[39mif\u001b[39;00m \u001b[39mself\u001b[39m\u001b[39m.\u001b[39m_sampler_iter \u001b[39mis\u001b[39;00m \u001b[39mNone\u001b[39;00m:\n\u001b[1;32m    629\u001b[0m     \u001b[39m# TODO(https://github.com/pytorch/pytorch/issues/76750)\u001b[39;00m\n\u001b[1;32m    630\u001b[0m     \u001b[39mself\u001b[39m\u001b[39m.\u001b[39m_reset()  \u001b[39m# type: ignore[call-arg]\u001b[39;00m\n\u001b[0;32m--> 631\u001b[0m data \u001b[39m=\u001b[39m \u001b[39mself\u001b[39m\u001b[39m.\u001b[39m_next_data()\n\u001b[1;32m    632\u001b[0m \u001b[39mself\u001b[39m\u001b[39m.\u001b[39m_num_yielded \u001b[39m+\u001b[39m\u001b[39m=\u001b[39m \u001b[39m1\u001b[39m\n\u001b[1;32m    633\u001b[0m \u001b[39mif\u001b[39;00m \u001b[39mself\u001b[39m\u001b[39m.\u001b[39m_dataset_kind \u001b[39m==\u001b[39m _DatasetKind\u001b[39m.\u001b[39mIterable \u001b[39mand\u001b[39;00m \\\n\u001b[1;32m    634\u001b[0m         \u001b[39mself\u001b[39m\u001b[39m.\u001b[39m_IterableDataset_len_called \u001b[39mis\u001b[39;00m \u001b[39mnot\u001b[39;00m \u001b[39mNone\u001b[39;00m \u001b[39mand\u001b[39;00m \\\n\u001b[1;32m    635\u001b[0m         \u001b[39mself\u001b[39m\u001b[39m.\u001b[39m_num_yielded \u001b[39m>\u001b[39m \u001b[39mself\u001b[39m\u001b[39m.\u001b[39m_IterableDataset_len_called:\n",
      "File \u001b[0;32m~/anaconda3/lib/python3.11/site-packages/torch/utils/data/dataloader.py:675\u001b[0m, in \u001b[0;36m_SingleProcessDataLoaderIter._next_data\u001b[0;34m(self)\u001b[0m\n\u001b[1;32m    673\u001b[0m \u001b[39mdef\u001b[39;00m \u001b[39m_next_data\u001b[39m(\u001b[39mself\u001b[39m):\n\u001b[1;32m    674\u001b[0m     index \u001b[39m=\u001b[39m \u001b[39mself\u001b[39m\u001b[39m.\u001b[39m_next_index()  \u001b[39m# may raise StopIteration\u001b[39;00m\n\u001b[0;32m--> 675\u001b[0m     data \u001b[39m=\u001b[39m \u001b[39mself\u001b[39m\u001b[39m.\u001b[39m_dataset_fetcher\u001b[39m.\u001b[39mfetch(index)  \u001b[39m# may raise StopIteration\u001b[39;00m\n\u001b[1;32m    676\u001b[0m     \u001b[39mif\u001b[39;00m \u001b[39mself\u001b[39m\u001b[39m.\u001b[39m_pin_memory:\n\u001b[1;32m    677\u001b[0m         data \u001b[39m=\u001b[39m _utils\u001b[39m.\u001b[39mpin_memory\u001b[39m.\u001b[39mpin_memory(data, \u001b[39mself\u001b[39m\u001b[39m.\u001b[39m_pin_memory_device)\n",
      "File \u001b[0;32m~/anaconda3/lib/python3.11/site-packages/torch/utils/data/_utils/fetch.py:51\u001b[0m, in \u001b[0;36m_MapDatasetFetcher.fetch\u001b[0;34m(self, possibly_batched_index)\u001b[0m\n\u001b[1;32m     49\u001b[0m         data \u001b[39m=\u001b[39m \u001b[39mself\u001b[39m\u001b[39m.\u001b[39mdataset\u001b[39m.\u001b[39m__getitems__(possibly_batched_index)\n\u001b[1;32m     50\u001b[0m     \u001b[39melse\u001b[39;00m:\n\u001b[0;32m---> 51\u001b[0m         data \u001b[39m=\u001b[39m [\u001b[39mself\u001b[39m\u001b[39m.\u001b[39mdataset[idx] \u001b[39mfor\u001b[39;00m idx \u001b[39min\u001b[39;00m possibly_batched_index]\n\u001b[1;32m     52\u001b[0m \u001b[39melse\u001b[39;00m:\n\u001b[1;32m     53\u001b[0m     data \u001b[39m=\u001b[39m \u001b[39mself\u001b[39m\u001b[39m.\u001b[39mdataset[possibly_batched_index]\n",
      "File \u001b[0;32m~/anaconda3/lib/python3.11/site-packages/torch/utils/data/_utils/fetch.py:51\u001b[0m, in \u001b[0;36m<listcomp>\u001b[0;34m(.0)\u001b[0m\n\u001b[1;32m     49\u001b[0m         data \u001b[39m=\u001b[39m \u001b[39mself\u001b[39m\u001b[39m.\u001b[39mdataset\u001b[39m.\u001b[39m__getitems__(possibly_batched_index)\n\u001b[1;32m     50\u001b[0m     \u001b[39melse\u001b[39;00m:\n\u001b[0;32m---> 51\u001b[0m         data \u001b[39m=\u001b[39m [\u001b[39mself\u001b[39m\u001b[39m.\u001b[39mdataset[idx] \u001b[39mfor\u001b[39;00m idx \u001b[39min\u001b[39;00m possibly_batched_index]\n\u001b[1;32m     52\u001b[0m \u001b[39melse\u001b[39;00m:\n\u001b[1;32m     53\u001b[0m     data \u001b[39m=\u001b[39m \u001b[39mself\u001b[39m\u001b[39m.\u001b[39mdataset[possibly_batched_index]\n",
      "File \u001b[0;32m~/anaconda3/lib/python3.11/site-packages/pandas/core/frame.py:3896\u001b[0m, in \u001b[0;36mDataFrame.__getitem__\u001b[0;34m(self, key)\u001b[0m\n\u001b[1;32m   3894\u001b[0m \u001b[39mif\u001b[39;00m \u001b[39mself\u001b[39m\u001b[39m.\u001b[39mcolumns\u001b[39m.\u001b[39mnlevels \u001b[39m>\u001b[39m \u001b[39m1\u001b[39m:\n\u001b[1;32m   3895\u001b[0m     \u001b[39mreturn\u001b[39;00m \u001b[39mself\u001b[39m\u001b[39m.\u001b[39m_getitem_multilevel(key)\n\u001b[0;32m-> 3896\u001b[0m indexer \u001b[39m=\u001b[39m \u001b[39mself\u001b[39m\u001b[39m.\u001b[39mcolumns\u001b[39m.\u001b[39mget_loc(key)\n\u001b[1;32m   3897\u001b[0m \u001b[39mif\u001b[39;00m is_integer(indexer):\n\u001b[1;32m   3898\u001b[0m     indexer \u001b[39m=\u001b[39m [indexer]\n",
      "File \u001b[0;32m~/anaconda3/lib/python3.11/site-packages/pandas/core/indexes/base.py:3797\u001b[0m, in \u001b[0;36mIndex.get_loc\u001b[0;34m(self, key)\u001b[0m\n\u001b[1;32m   3792\u001b[0m     \u001b[39mif\u001b[39;00m \u001b[39misinstance\u001b[39m(casted_key, \u001b[39mslice\u001b[39m) \u001b[39mor\u001b[39;00m (\n\u001b[1;32m   3793\u001b[0m         \u001b[39misinstance\u001b[39m(casted_key, abc\u001b[39m.\u001b[39mIterable)\n\u001b[1;32m   3794\u001b[0m         \u001b[39mand\u001b[39;00m \u001b[39many\u001b[39m(\u001b[39misinstance\u001b[39m(x, \u001b[39mslice\u001b[39m) \u001b[39mfor\u001b[39;00m x \u001b[39min\u001b[39;00m casted_key)\n\u001b[1;32m   3795\u001b[0m     ):\n\u001b[1;32m   3796\u001b[0m         \u001b[39mraise\u001b[39;00m InvalidIndexError(key)\n\u001b[0;32m-> 3797\u001b[0m     \u001b[39mraise\u001b[39;00m \u001b[39mKeyError\u001b[39;00m(key) \u001b[39mfrom\u001b[39;00m \u001b[39merr\u001b[39;00m\n\u001b[1;32m   3798\u001b[0m \u001b[39mexcept\u001b[39;00m \u001b[39mTypeError\u001b[39;00m:\n\u001b[1;32m   3799\u001b[0m     \u001b[39m# If we have a listlike key, _check_indexing_error will raise\u001b[39;00m\n\u001b[1;32m   3800\u001b[0m     \u001b[39m#  InvalidIndexError. Otherwise we fall through and re-raise\u001b[39;00m\n\u001b[1;32m   3801\u001b[0m     \u001b[39m#  the TypeError.\u001b[39;00m\n\u001b[1;32m   3802\u001b[0m     \u001b[39mself\u001b[39m\u001b[39m.\u001b[39m_check_indexing_error(key)\n",
      "\u001b[0;31mKeyError\u001b[0m: 0"
     ]
    }
   ],
   "source": [
    "from sklearn.metrics import roc_auc_score\n",
    "\n",
    "# Evaluate the model\n",
    "def evaluate_model(model, dataloader, criterion):\n",
    "    model.eval()\n",
    "    device = torch.device(\"cuda\" if torch.cuda.is_available() else \"cpu\")\n",
    "    model.to(device)\n",
    "    total_loss = 0.0\n",
    "    y_true = []\n",
    "    y_scores = []\n",
    "\n",
    "    with torch.no_grad():\n",
    "        for inputs, labels in dataloader:\n",
    "            inputs, labels = inputs.to(device), labels.to(device)\n",
    "\n",
    "            # Forward pass\n",
    "            outputs = model(inputs)\n",
    "            loss = criterion(outputs, labels.float())\n",
    "            total_loss += loss.item()\n",
    "\n",
    "            # Convert probability outputs to scores\n",
    "            y_scores.extend(outputs.cpu().numpy())\n",
    "            y_true.extend(labels.cpu().numpy())\n",
    "\n",
    "    avg_loss = total_loss / len(dataloader)\n",
    "    print(f\"Average Loss: {avg_loss:.4f}\")\n",
    "\n",
    "    roc_auc = roc_auc_score(y_true, y_scores)\n",
    "    print(f\"ROC AUC Score: {roc_auc:.4f}\")\n",
    "\n",
    "evaluate_model(model, test_loader, criterion=torch.nn.BCELoss())\n"
   ]
  },
  {
   "cell_type": "code",
   "execution_count": null,
   "id": "8b3bf528",
   "metadata": {},
   "outputs": [],
   "source": []
  }
 ],
 "metadata": {
  "kernelspec": {
   "display_name": "Python 3 (ipykernel)",
   "language": "python",
   "name": "python3"
  },
  "language_info": {
   "codemirror_mode": {
    "name": "ipython",
    "version": 3
   },
   "file_extension": ".py",
   "mimetype": "text/x-python",
   "name": "python",
   "nbconvert_exporter": "python",
   "pygments_lexer": "ipython3",
   "version": "3.11.5"
  }
 },
 "nbformat": 4,
 "nbformat_minor": 5
}
